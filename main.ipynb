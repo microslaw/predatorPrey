{
 "cells": [
  {
   "cell_type": "code",
   "execution_count": 1,
   "metadata": {},
   "outputs": [],
   "source": [
    "%load_ext autoreload\n",
    "%autoreload 2"
   ]
  },
  {
   "cell_type": "code",
   "execution_count": 2,
   "metadata": {},
   "outputs": [
    {
     "name": "stdout",
     "output_type": "stream",
     "text": [
      "Starting tensorflow imports...\n",
      "... Imports done\n"
     ]
    }
   ],
   "source": [
    "from timer import timer_predict, timer_state, timer_total, timer_fit\n",
    "from utils import generate_states\n",
    "from model import Model\n",
    "version_no = 0\n",
    "result_no = 0\n",
    "input_shape = 10\n",
    "sheep_speed = 2\n",
    "wolf_speed = 3\n",
    "\n"
   ]
  },
  {
   "cell_type": "code",
   "execution_count": 3,
   "metadata": {},
   "outputs": [
    {
     "name": "stdout",
     "output_type": "stream",
     "text": [
      "Model.init_model(10, 25, 0.001)\n",
      "Model.init_model(10, 49, 0.001)\n",
      "<model.Model object at 0x0000023557B306D0>\n",
      "pygame 2.1.2 (SDL 2.0.18, Python 3.10.7)\n",
      "Hello from the pygame community. https://www.pygame.org/contribute.html\n"
     ]
    }
   ],
   "source": [
    "# os.mkdir(f\"v{version_no}\")\n",
    "\n",
    "sheep_model = Model(\n",
    "    input_shape=input_shape,\n",
    "    output_shape=len(generate_states(sheep_speed)),\n",
    "    learning_rate=0.001,\n",
    ")\n",
    "sheep_model.save(f\"v{version_no}\\sheepInitial.h5\")\n",
    "\n",
    "wolf_model = Model(\n",
    "    input_shape=input_shape,\n",
    "    output_shape=len(generate_states(wolf_speed)),\n",
    "    learning_rate=0.001,\n",
    ")\n",
    "wolf_model.save(f\"v{version_no}\\wolfInitial.h5\")\n",
    "\n",
    "from sheep import Sheep\n",
    "from wolf import Wolf\n",
    "from display import Display"
   ]
  },
  {
   "cell_type": "code",
   "execution_count": 10,
   "metadata": {},
   "outputs": [
    {
     "name": "stdout",
     "output_type": "stream",
     "text": [
      "Starting tensorflow imports...\n",
      "... Imports done\n"
     ]
    },
    {
     "ename": "TypeError",
     "evalue": "Model.fit() missing 5 required positional arguments: 'state', 'action', 'reward', 'next_state', and 'done'",
     "output_type": "error",
     "traceback": [
      "\u001b[1;31m---------------------------------------------------------------------------\u001b[0m",
      "\u001b[1;31mTypeError\u001b[0m                                 Traceback (most recent call last)",
      "Cell \u001b[1;32mIn[10], line 3\u001b[0m\n\u001b[0;32m      1\u001b[0m timer_total\u001b[38;5;241m.\u001b[39mtic()\n\u001b[0;32m      2\u001b[0m display \u001b[38;5;241m=\u001b[39m Display(scale\u001b[38;5;241m=\u001b[39m\u001b[38;5;241m1\u001b[39m)\n\u001b[1;32m----> 3\u001b[0m \u001b[43mdisplay\u001b[49m\u001b[38;5;241;43m.\u001b[39;49m\u001b[43mstart\u001b[49m\u001b[43m(\u001b[49m\u001b[43m)\u001b[49m\n\u001b[0;32m      7\u001b[0m Sheep\u001b[38;5;241m.\u001b[39mmodel\u001b[38;5;241m.\u001b[39msave(\u001b[38;5;124mf\u001b[39m\u001b[38;5;124m\"\u001b[39m\u001b[38;5;124mv\u001b[39m\u001b[38;5;132;01m{\u001b[39;00mversion_no\u001b[38;5;132;01m}\u001b[39;00m\u001b[38;5;124m/sheepResult\u001b[39m\u001b[38;5;132;01m{\u001b[39;00mresult_no\u001b[38;5;132;01m}\u001b[39;00m\u001b[38;5;124m.h5\u001b[39m\u001b[38;5;124m\"\u001b[39m)\n\u001b[0;32m      8\u001b[0m Wolf\u001b[38;5;241m.\u001b[39mmodel\u001b[38;5;241m.\u001b[39msave(\u001b[38;5;124mf\u001b[39m\u001b[38;5;124m\"\u001b[39m\u001b[38;5;124mv\u001b[39m\u001b[38;5;132;01m{\u001b[39;00mversion_no\u001b[38;5;132;01m}\u001b[39;00m\u001b[38;5;124m/wolfResult\u001b[39m\u001b[38;5;132;01m{\u001b[39;00mresult_no\u001b[38;5;132;01m}\u001b[39;00m\u001b[38;5;124m.h5\u001b[39m\u001b[38;5;124m\"\u001b[39m)\n",
      "File \u001b[1;32mc:\\projects\\predatorPrey\\display.py:29\u001b[0m, in \u001b[0;36mDisplay.start\u001b[1;34m(self)\u001b[0m\n\u001b[0;32m     26\u001b[0m         \u001b[38;5;28mself\u001b[39m\u001b[38;5;241m.\u001b[39mrunning \u001b[38;5;241m=\u001b[39m \u001b[38;5;28;01mFalse\u001b[39;00m\n\u001b[0;32m     28\u001b[0m \u001b[38;5;28mself\u001b[39m\u001b[38;5;241m.\u001b[39mscreen\u001b[38;5;241m.\u001b[39mfill((\u001b[38;5;241m0\u001b[39m, \u001b[38;5;241m0\u001b[39m, \u001b[38;5;241m0\u001b[39m))\n\u001b[1;32m---> 29\u001b[0m \u001b[38;5;28;43mself\u001b[39;49m\u001b[38;5;241;43m.\u001b[39;49m\u001b[43mgame\u001b[49m\u001b[38;5;241;43m.\u001b[39;49m\u001b[43mturn\u001b[49m\u001b[43m(\u001b[49m\u001b[43m)\u001b[49m\n\u001b[0;32m     30\u001b[0m \u001b[38;5;28;01mfor\u001b[39;00m entity \u001b[38;5;129;01min\u001b[39;00m \u001b[38;5;28mself\u001b[39m\u001b[38;5;241m.\u001b[39mgame\u001b[38;5;241m.\u001b[39mentities:\n\u001b[0;32m     31\u001b[0m     x, y \u001b[38;5;241m=\u001b[39m entity\u001b[38;5;241m.\u001b[39mposition\n",
      "File \u001b[1;32mc:\\projects\\predatorPrey\\game.py:108\u001b[0m, in \u001b[0;36mGame.turn\u001b[1;34m(self)\u001b[0m\n\u001b[0;32m    106\u001b[0m \u001b[38;5;28;01mfor\u001b[39;00m entity \u001b[38;5;129;01min\u001b[39;00m \u001b[38;5;28mself\u001b[39m\u001b[38;5;241m.\u001b[39mentities:\n\u001b[0;32m    107\u001b[0m     timer_fit\u001b[38;5;241m.\u001b[39mtic()\n\u001b[1;32m--> 108\u001b[0m     \u001b[43mentity\u001b[49m\u001b[38;5;241;43m.\u001b[39;49m\u001b[43mfit\u001b[49m\u001b[43m(\u001b[49m\u001b[43m)\u001b[49m\n\u001b[0;32m    109\u001b[0m     timer_fit\u001b[38;5;241m.\u001b[39mtoc()\n\u001b[0;32m    111\u001b[0m \u001b[38;5;28mself\u001b[39m\u001b[38;5;241m.\u001b[39mclean_dead()\n",
      "File \u001b[1;32mc:\\projects\\predatorPrey\\entity.py:79\u001b[0m, in \u001b[0;36mEntity.fit\u001b[1;34m(self)\u001b[0m\n\u001b[0;32m     78\u001b[0m \u001b[38;5;28;01mdef\u001b[39;00m \u001b[38;5;21mfit\u001b[39m(\u001b[38;5;28mself\u001b[39m):\n\u001b[1;32m---> 79\u001b[0m     \u001b[38;5;28;43mself\u001b[39;49m\u001b[38;5;241;43m.\u001b[39;49m\u001b[43mmodel\u001b[49m\u001b[38;5;241;43m.\u001b[39;49m\u001b[43mfit\u001b[49m\u001b[43m(\u001b[49m\u001b[43m)\u001b[49m\n",
      "\u001b[1;31mTypeError\u001b[0m: Model.fit() missing 5 required positional arguments: 'state', 'action', 'reward', 'next_state', and 'done'"
     ]
    },
    {
     "ename": "",
     "evalue": "",
     "output_type": "error",
     "traceback": [
      "\u001b[1;31mThe Kernel crashed while executing code in the current cell or a previous cell. \n",
      "\u001b[1;31mPlease review the code in the cell(s) to identify a possible cause of the failure. \n",
      "\u001b[1;31mClick <a href='https://aka.ms/vscodeJupyterKernelCrash'>here</a> for more info. \n",
      "\u001b[1;31mView Jupyter <a href='command:jupyter.viewOutput'>log</a> for further details."
     ]
    }
   ],
   "source": [
    "timer_total.tic()\n",
    "display = Display(scale=1)\n",
    "display.start()\n",
    "\n",
    "\n",
    "\n",
    "Sheep.model.save(f\"v{version_no}/sheepResult{result_no}.h5\")\n",
    "Wolf.model.save(f\"v{version_no}/wolfResult{result_no}.h5\")\n",
    "\n",
    "\n",
    "timer_total.toc()"
   ]
  },
  {
   "cell_type": "code",
   "execution_count": 5,
   "metadata": {},
   "outputs": [
    {
     "name": "stdout",
     "output_type": "stream",
     "text": [
      "Predict:\n",
      "Total time: 129 s\n",
      "Total calls: 1080\n",
      "Average time: 120 ms\n",
      "State:\n",
      "Total time: 0 s\n",
      "Total calls: 1080\n",
      "Average time: 0 ms\n",
      "Total:\n",
      "Total time: 130 s\n",
      "Total calls: 1\n",
      "Average time: 130469 ms\n"
     ]
    }
   ],
   "source": [
    "\n",
    "print(\"Predict:\")\n",
    "timer_predict.stats()\n",
    "\n",
    "print(\"State:\")\n",
    "timer_state.stats()\n",
    "\n",
    "print(\"Total:\")\n",
    "timer_total.stats()\n",
    "\n",
    "print(\"Fit:\")\n",
    "timer_fit.stats()"
   ]
  },
  {
   "cell_type": "code",
   "execution_count": 6,
   "metadata": {},
   "outputs": [
    {
     "name": "stdout",
     "output_type": "stream",
     "text": [
      "Num GPUs Available:  0\n"
     ]
    }
   ],
   "source": [
    "import tensorflow as tf\n",
    "print(\"Num GPUs Available: \", len(tf.config.list_physical_devices('GPU')))"
   ]
  },
  {
   "cell_type": "code",
   "execution_count": null,
   "metadata": {},
   "outputs": [],
   "source": []
  }
 ],
 "metadata": {
  "kernelspec": {
   "display_name": "Python 3",
   "language": "python",
   "name": "python3"
  },
  "language_info": {
   "codemirror_mode": {
    "name": "ipython",
    "version": 3
   },
   "file_extension": ".py",
   "mimetype": "text/x-python",
   "name": "python",
   "nbconvert_exporter": "python",
   "pygments_lexer": "ipython3",
   "version": "3.10.7"
  }
 },
 "nbformat": 4,
 "nbformat_minor": 2
}
