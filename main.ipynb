{
 "cells": [
  {
   "cell_type": "code",
   "execution_count": 11,
   "metadata": {},
   "outputs": [
    {
     "name": "stdout",
     "output_type": "stream",
     "text": [
      "The autoreload extension is already loaded. To reload it, use:\n",
      "  %reload_ext autoreload\n"
     ]
    }
   ],
   "source": [
    "%load_ext autoreload\n",
    "%autoreload 2"
   ]
  },
  {
   "cell_type": "code",
   "execution_count": 12,
   "metadata": {},
   "outputs": [],
   "source": [
    "from timer import *\n",
    "\n",
    "from sheep import Sheep\n",
    "from wolf import Wolf\n",
    "\n",
    "from game import Game"
   ]
  },
  {
   "cell_type": "code",
   "execution_count": 16,
   "metadata": {},
   "outputs": [],
   "source": [
    "#Load trained brains\n",
    "# Sheep.add_brain(nn.load(f\"models/local{99}/sheep{99}.pkl\"))\n",
    "# Wolf.add_brain(nn.load(f\"models/local{99}/wolf{99}.pkl\"))\n",
    "\n",
    "#Create random brains\n",
    "Sheep.add_brain()\n",
    "Wolf.add_brain()"
   ]
  },
  {
   "cell_type": "code",
   "execution_count": 17,
   "metadata": {},
   "outputs": [
    {
     "name": "stdout",
     "output_type": "stream",
     "text": [
      "Game 0\n",
      "Game 1\n",
      "Game 2\n",
      "Game 3\n",
      "Game 4\n",
      "Game 5\n",
      "Game 6\n",
      "Game 7\n",
      "Game 8\n",
      "Game 9\n",
      "Game 10\n",
      "Game 11\n",
      "Game 12\n",
      "Game 13\n",
      "Game 14\n",
      "Game 15\n",
      "Game 16\n",
      "Game 17\n",
      "Game 18\n",
      "Game 19\n",
      "Game 20\n",
      "Game 21\n",
      "Game 22\n",
      "Game 23\n",
      "Game 24\n",
      "Game 25\n",
      "Game 26\n",
      "Game 27\n",
      "Game 28\n",
      "Game 29\n",
      "Game 30\n",
      "Game 31\n",
      "Game 32\n",
      "Game 33\n",
      "Game 34\n",
      "Game 35\n",
      "Game 36\n",
      "Game 37\n",
      "Game 38\n",
      "Game 39\n",
      "Game 40\n",
      "Game 41\n",
      "Game 42\n",
      "Game 43\n",
      "Game 44\n",
      "Game 45\n",
      "Game 46\n",
      "Game 47\n",
      "Game 48\n",
      "Game 49\n",
      "Game 50\n",
      "Game 51\n",
      "Game 52\n",
      "Game 53\n",
      "Game 54\n",
      "Game 55\n",
      "Game 56\n",
      "Game 57\n",
      "Game 58\n",
      "Game 59\n",
      "Game 60\n",
      "Game 61\n",
      "Game 62\n",
      "Game 63\n",
      "Game 64\n",
      "Game 65\n",
      "Game 66\n",
      "Game 67\n",
      "Game 68\n",
      "Game 69\n",
      "Game 70\n",
      "Game 71\n",
      "Game 72\n",
      "Game 73\n",
      "Game 74\n",
      "Game 75\n",
      "Game 76\n",
      "Game 77\n",
      "Game 78\n",
      "Game 79\n",
      "Game 80\n",
      "Game 81\n",
      "Game 82\n",
      "Game 83\n",
      "Game 84\n",
      "Game 85\n",
      "Game 86\n",
      "Game 87\n",
      "Game 88\n",
      "Game 89\n",
      "Game 90\n",
      "Game 91\n",
      "Game 92\n",
      "Game 93\n",
      "Game 94\n",
      "Game 95\n",
      "Game 96\n",
      "Game 97\n",
      "Game 98\n",
      "Game 99\n"
     ]
    }
   ],
   "source": [
    "game = Game(\n",
    "    learning=False,\n",
    ")\n",
    "\n",
    "for i in range(100):\n",
    "    timer_total.tic()\n",
    "    print(f\"Game {i}\")\n",
    "    game.setup()\n",
    "    game.play()\n",
    "\n",
    "    timer_total.toc()\n",
    "\n",
    "\n",
    "\n",
    "game.display.cleanup()"
   ]
  },
  {
   "cell_type": "code",
   "execution_count": 14,
   "metadata": {},
   "outputs": [
    {
     "name": "stdout",
     "output_type": "stream",
     "text": [
      "Predict:\n",
      "Total time: 2.748 s\n",
      "Total calls: 15784\n",
      "Average time: 0.00017410035478966044 s\n",
      "\n",
      "Total:\n",
      "Total time: 182.484 s\n",
      "Total calls: 7\n",
      "Average time: 26.069142857142857 s\n",
      "\n",
      "Fit:\n",
      "Total time: 19.74 s\n",
      "Total calls: 24444\n",
      "Average time: 0.0008075601374570446 s\n",
      "\n",
      "Outlook:\n",
      "Total time: 0.566 s\n",
      "Total calls: 24363\n",
      "Average time: 2.3231950088248572e-05 s\n",
      "\n",
      "Outlook global:\n",
      "Total time: 152.225 s\n",
      "Total calls: 1367\n",
      "Average time: 0.11135698610095099 s\n",
      "\n"
     ]
    }
   ],
   "source": [
    "print(\"Predict:\")\n",
    "timer_predict.stats()\n",
    "\n",
    "print(\"Total:\")\n",
    "timer_total.stats()\n",
    "\n",
    "print(\"Fit:\")\n",
    "timer_fit.stats()\n",
    "\n",
    "print(\"Outlook:\")\n",
    "timer_outlook.stats()\n",
    "\n",
    "print(\"Outlook global:\")\n",
    "timer_outlook_global.stats()"
   ]
  },
  {
   "cell_type": "code",
   "execution_count": null,
   "metadata": {},
   "outputs": [],
   "source": []
  }
 ],
 "metadata": {
  "kernelspec": {
   "display_name": "Python 3",
   "language": "python",
   "name": "python3"
  },
  "language_info": {
   "codemirror_mode": {
    "name": "ipython",
    "version": 3
   },
   "file_extension": ".py",
   "mimetype": "text/x-python",
   "name": "python",
   "nbconvert_exporter": "python",
   "pygments_lexer": "ipython3",
   "version": "3.12.2"
  }
 },
 "nbformat": 4,
 "nbformat_minor": 2
}
