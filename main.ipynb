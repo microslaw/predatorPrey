{
 "cells": [
  {
   "cell_type": "code",
   "execution_count": 1,
   "metadata": {},
   "outputs": [
    {
     "name": "stdout",
     "output_type": "stream",
     "text": [
      "pygame 2.1.2 (SDL 2.0.18, Python 3.10.7)\n",
      "Hello from the pygame community. https://www.pygame.org/contribute.html\n",
      "Starting imports\n",
      "Imports done\n",
      "Model.init_model(10, 49, 0.001)\n",
      "Model.init_model(10, 25, 0.001)\n",
      "<model.Model object at 0x00000168285239D0>\n"
     ]
    }
   ],
   "source": [
    "%load_ext autoreload\n",
    "%autoreload 2\n",
    "\n",
    "from timer import timer_predict, timer_state, timer_total\n",
    "from utils import generate_states\n",
    "from model import Model\n",
    "import os\n",
    "version_no = 0\n",
    "input_shape = 10\n",
    "sheep_speed = 2\n",
    "wolf_speed = 3\n",
    "\n"
   ]
  },
  {
   "cell_type": "code",
   "execution_count": 2,
   "metadata": {},
   "outputs": [
    {
     "name": "stdout",
     "output_type": "stream",
     "text": [
      "Model.init_model(10, 25, 0.001)\n",
      "Model.init_model(10, 49, 0.001)\n"
     ]
    }
   ],
   "source": [
    "# os.mkdir(f\"v{version_no}\")\n",
    "\n",
    "sheep_model = Model(\n",
    "    input_shape=input_shape,\n",
    "    output_shape=len(generate_states(sheep_speed)),\n",
    "    learning_rate=0.001,\n",
    ")\n",
    "sheep_model.save(f\"v{version_no}/sheep.h5\")\n",
    "\n",
    "wolf_model = Model(\n",
    "    input_shape=input_shape,\n",
    "    output_shape=len(generate_states(wolf_speed)),\n",
    "    learning_rate=0.001,\n",
    ")\n",
    "wolf_model.save(f\"v{version_no}/wolf.h5\")\n",
    "\n",
    "from display import Display"
   ]
  },
  {
   "cell_type": "code",
   "execution_count": 21,
   "metadata": {},
   "outputs": [
    {
     "ename": "AttributeError",
     "evalue": "'Sequential' object has no attribute 'decide'",
     "output_type": "error",
     "traceback": [
      "\u001b[1;31m---------------------------------------------------------------------------\u001b[0m",
      "\u001b[1;31mAttributeError\u001b[0m                            Traceback (most recent call last)",
      "Cell \u001b[1;32mIn[21], line 3\u001b[0m\n\u001b[0;32m      1\u001b[0m timer_total\u001b[38;5;241m.\u001b[39mtic()\n\u001b[0;32m      2\u001b[0m display \u001b[38;5;241m=\u001b[39m Display(scale\u001b[38;5;241m=\u001b[39m\u001b[38;5;241m1\u001b[39m)\n\u001b[1;32m----> 3\u001b[0m \u001b[43mdisplay\u001b[49m\u001b[38;5;241;43m.\u001b[39;49m\u001b[43mstart\u001b[49m\u001b[43m(\u001b[49m\u001b[43m)\u001b[49m\n\u001b[0;32m      4\u001b[0m timer_total\u001b[38;5;241m.\u001b[39mtoc()\n",
      "File \u001b[1;32mc:\\projects\\predatorPrey\\display.py:29\u001b[0m, in \u001b[0;36mDisplay.start\u001b[1;34m(self)\u001b[0m\n\u001b[0;32m     26\u001b[0m         \u001b[38;5;28mself\u001b[39m\u001b[38;5;241m.\u001b[39mrunning \u001b[38;5;241m=\u001b[39m \u001b[38;5;28;01mFalse\u001b[39;00m\n\u001b[0;32m     28\u001b[0m \u001b[38;5;28mself\u001b[39m\u001b[38;5;241m.\u001b[39mscreen\u001b[38;5;241m.\u001b[39mfill((\u001b[38;5;241m0\u001b[39m, \u001b[38;5;241m0\u001b[39m, \u001b[38;5;241m0\u001b[39m))\n\u001b[1;32m---> 29\u001b[0m \u001b[38;5;28;43mself\u001b[39;49m\u001b[38;5;241;43m.\u001b[39;49m\u001b[43mgame\u001b[49m\u001b[38;5;241;43m.\u001b[39;49m\u001b[43mturn\u001b[49m\u001b[43m(\u001b[49m\u001b[43m)\u001b[49m\n\u001b[0;32m     30\u001b[0m \u001b[38;5;28;01mfor\u001b[39;00m entity \u001b[38;5;129;01min\u001b[39;00m \u001b[38;5;28mself\u001b[39m\u001b[38;5;241m.\u001b[39mgame\u001b[38;5;241m.\u001b[39mentities:\n\u001b[0;32m     31\u001b[0m     x, y \u001b[38;5;241m=\u001b[39m entity\u001b[38;5;241m.\u001b[39mposition\n",
      "File \u001b[1;32mc:\\projects\\predatorPrey\\game.py:101\u001b[0m, in \u001b[0;36mGame.turn\u001b[1;34m(self)\u001b[0m\n\u001b[0;32m     95\u001b[0m \u001b[38;5;28;01mfor\u001b[39;00m entity \u001b[38;5;129;01min\u001b[39;00m \u001b[38;5;28mself\u001b[39m\u001b[38;5;241m.\u001b[39mentities:\n\u001b[0;32m     96\u001b[0m     entityDict \u001b[38;5;241m=\u001b[39m {\n\u001b[0;32m     97\u001b[0m         \u001b[38;5;124m\"\u001b[39m\u001b[38;5;124mwolfes\u001b[39m\u001b[38;5;124m\"\u001b[39m: [e \u001b[38;5;28;01mfor\u001b[39;00m e \u001b[38;5;129;01min\u001b[39;00m \u001b[38;5;28mself\u001b[39m\u001b[38;5;241m.\u001b[39mentities \u001b[38;5;28;01mif\u001b[39;00m \u001b[38;5;28misinstance\u001b[39m(e, Wolf)],\n\u001b[0;32m     98\u001b[0m         \u001b[38;5;124m\"\u001b[39m\u001b[38;5;124msheeps\u001b[39m\u001b[38;5;124m\"\u001b[39m: [e \u001b[38;5;28;01mfor\u001b[39;00m e \u001b[38;5;129;01min\u001b[39;00m \u001b[38;5;28mself\u001b[39m\u001b[38;5;241m.\u001b[39mentities \u001b[38;5;28;01mif\u001b[39;00m \u001b[38;5;28misinstance\u001b[39m(e, Sheep)],\n\u001b[0;32m     99\u001b[0m         \u001b[38;5;124m\"\u001b[39m\u001b[38;5;124mgrass\u001b[39m\u001b[38;5;124m\"\u001b[39m: [e \u001b[38;5;28;01mfor\u001b[39;00m e \u001b[38;5;129;01min\u001b[39;00m \u001b[38;5;28mself\u001b[39m\u001b[38;5;241m.\u001b[39mentities \u001b[38;5;28;01mif\u001b[39;00m \u001b[38;5;28misinstance\u001b[39m(e, Grass)],\n\u001b[0;32m    100\u001b[0m     }\n\u001b[1;32m--> 101\u001b[0m     \u001b[43mentity\u001b[49m\u001b[38;5;241;43m.\u001b[39;49m\u001b[43mdecide\u001b[49m\u001b[43m(\u001b[49m\u001b[43mentityDict\u001b[49m\u001b[43m)\u001b[49m\n\u001b[0;32m    102\u001b[0m \u001b[38;5;28mself\u001b[39m\u001b[38;5;241m.\u001b[39mcheck_collisions()\n\u001b[0;32m    104\u001b[0m \u001b[38;5;66;03m# for entity in self.entities:\u001b[39;00m\n\u001b[0;32m    105\u001b[0m \u001b[38;5;66;03m#     entity.reward()\u001b[39;00m\n",
      "File \u001b[1;32mc:\\projects\\predatorPrey\\entity.py:65\u001b[0m, in \u001b[0;36mEntity.decide\u001b[1;34m(self, entitiesDict)\u001b[0m\n\u001b[0;32m     61\u001b[0m timer_state\u001b[38;5;241m.\u001b[39mtoc()\n\u001b[0;32m     64\u001b[0m timer_predict\u001b[38;5;241m.\u001b[39mtic()\n\u001b[1;32m---> 65\u001b[0m movementId \u001b[38;5;241m=\u001b[39m \u001b[38;5;28;43mself\u001b[39;49m\u001b[38;5;241;43m.\u001b[39;49m\u001b[43mmodel\u001b[49m\u001b[38;5;241;43m.\u001b[39;49m\u001b[43mdecide\u001b[49m(state\u001b[38;5;241m=\u001b[39m[\u001b[38;5;241m0\u001b[39m, \u001b[38;5;241m434\u001b[39m, \u001b[38;5;241m403\u001b[39m, \u001b[38;5;241m5.05\u001b[39m, \u001b[38;5;241m20\u001b[39m, \u001b[38;5;241m185\u001b[39m, \u001b[38;5;241m4.154198871677794\u001b[39m, \u001b[38;5;241m124\u001b[39m, \u001b[38;5;241m174\u001b[39m, \u001b[38;5;241m6\u001b[39m], verbose \u001b[38;5;241m=\u001b[39m \u001b[38;5;241m0\u001b[39m)\n\u001b[0;32m     66\u001b[0m timer_predict\u001b[38;5;241m.\u001b[39mtoc()\n\u001b[0;32m     67\u001b[0m movement \u001b[38;5;241m=\u001b[39m \u001b[38;5;28mself\u001b[39m\u001b[38;5;241m.\u001b[39mmovement_states[movementId]\n",
      "\u001b[1;31mAttributeError\u001b[0m: 'Sequential' object has no attribute 'decide'"
     ]
    }
   ],
   "source": [
    "timer_total.tic()\n",
    "display = Display(scale=1)\n",
    "display.start()\n",
    "timer_total.toc()"
   ]
  },
  {
   "cell_type": "code",
   "execution_count": null,
   "metadata": {},
   "outputs": [],
   "source": [
    "\n",
    "print(\"Predict:\")\n",
    "timer_predict.stats()\n",
    "\n",
    "print(\"State:\")\n",
    "timer_state.stats()\n",
    "\n",
    "print(\"Total:\")\n",
    "timer_total.stats()"
   ]
  },
  {
   "cell_type": "code",
   "execution_count": 6,
   "metadata": {},
   "outputs": [
    {
     "ename": "AttributeError",
     "evalue": "'builtin_function_or_method' object has no attribute 'min_wolf_age'",
     "output_type": "error",
     "traceback": [
      "\u001b[1;31m---------------------------------------------------------------------------\u001b[0m",
      "\u001b[1;31mAttributeError\u001b[0m                            Traceback (most recent call last)",
      "Cell \u001b[1;32mIn[6], line 1\u001b[0m\n\u001b[1;32m----> 1\u001b[0m \u001b[38;5;28;43mglobals\u001b[39;49m\u001b[38;5;241;43m.\u001b[39;49m\u001b[43mmin_wolf_age\u001b[49m\n",
      "\u001b[1;31mAttributeError\u001b[0m: 'builtin_function_or_method' object has no attribute 'min_wolf_age'"
     ]
    }
   ],
   "source": [
    "globals.min_wolf_age"
   ]
  },
  {
   "cell_type": "code",
   "execution_count": null,
   "metadata": {},
   "outputs": [],
   "source": []
  }
 ],
 "metadata": {
  "kernelspec": {
   "display_name": "Python 3",
   "language": "python",
   "name": "python3"
  },
  "language_info": {
   "codemirror_mode": {
    "name": "ipython",
    "version": 3
   },
   "file_extension": ".py",
   "mimetype": "text/x-python",
   "name": "python",
   "nbconvert_exporter": "python",
   "pygments_lexer": "ipython3",
   "version": "3.10.7"
  }
 },
 "nbformat": 4,
 "nbformat_minor": 2
}
