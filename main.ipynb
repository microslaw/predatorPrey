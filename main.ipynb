{
 "cells": [
  {
   "cell_type": "code",
   "execution_count": 1,
   "metadata": {},
   "outputs": [],
   "source": [
    "%load_ext autoreload\n",
    "%autoreload 2"
   ]
  },
  {
   "cell_type": "code",
   "execution_count": 3,
   "metadata": {},
   "outputs": [],
   "source": [
    "from timer import timer_predict, timer_state, timer_total, timer_fit\n",
    "from utils import  mkdir_if_not_exist\n",
    "import globals\n",
    "from sheep import Sheep\n",
    "from wolf import Wolf\n",
    "from game import Game"
   ]
  },
  {
   "cell_type": "code",
   "execution_count": 4,
   "metadata": {},
   "outputs": [],
   "source": [
    "Sheep.add_brain()\n",
    "Wolf.add_brain()\n",
    "\n",
    "mkdir_if_not_exist(f\"mk{globals.version_no}\")\n",
    "Sheep.brain.save(f\"mk{globals.version_no}/sheep_brain_initial.pkl\")\n",
    "Wolf.brain.save(f\"mk{globals.version_no}/wolf_brain_initial.pkl\")\n",
    "\n"
   ]
  },
  {
   "cell_type": "code",
   "execution_count": 5,
   "metadata": {},
   "outputs": [
    {
     "ename": "AttributeError",
     "evalue": "type object 'NeuralNetwork' has no attribute 'leakyRelu'",
     "output_type": "error",
     "traceback": [
      "\u001b[1;31m---------------------------------------------------------------------------\u001b[0m",
      "\u001b[1;31mAttributeError\u001b[0m                            Traceback (most recent call last)",
      "Cell \u001b[1;32mIn[5], line 2\u001b[0m\n\u001b[0;32m      1\u001b[0m timer_total\u001b[38;5;241m.\u001b[39mtic()\n\u001b[1;32m----> 2\u001b[0m display \u001b[38;5;241m=\u001b[39m \u001b[43mDisplay\u001b[49m\u001b[43m(\u001b[49m\u001b[43mscale\u001b[49m\u001b[38;5;241;43m=\u001b[39;49m\u001b[38;5;241;43m1\u001b[39;49m\u001b[43m)\u001b[49m\n\u001b[0;32m      3\u001b[0m display\u001b[38;5;241m.\u001b[39mstart()\n\u001b[0;32m      4\u001b[0m timer_total\u001b[38;5;241m.\u001b[39mtoc()\n",
      "File \u001b[1;32mc:\\projects\\predatorPrey\\display.py:21\u001b[0m, in \u001b[0;36mDisplay.__init__\u001b[1;34m(self, scale)\u001b[0m\n\u001b[0;32m     19\u001b[0m \u001b[38;5;28mself\u001b[39m\u001b[38;5;241m.\u001b[39mrunning \u001b[38;5;241m=\u001b[39m \u001b[38;5;28;01mTrue\u001b[39;00m\n\u001b[0;32m     20\u001b[0m \u001b[38;5;28mself\u001b[39m\u001b[38;5;241m.\u001b[39mentities \u001b[38;5;241m=\u001b[39m []\n\u001b[1;32m---> 21\u001b[0m \u001b[38;5;28mself\u001b[39m\u001b[38;5;241m.\u001b[39mgame \u001b[38;5;241m=\u001b[39m \u001b[43mGame\u001b[49m\u001b[43m(\u001b[49m\u001b[43mrandomStart\u001b[49m\u001b[38;5;241;43m=\u001b[39;49m\u001b[38;5;28;43;01mTrue\u001b[39;49;00m\u001b[43m)\u001b[49m\n",
      "File \u001b[1;32mc:\\projects\\predatorPrey\\game.py:71\u001b[0m, in \u001b[0;36mGame.__init__\u001b[1;34m(self, randomStart, sheepCount, wolfCount, grassCount)\u001b[0m\n\u001b[0;32m     69\u001b[0m \u001b[38;5;28mself\u001b[39m\u001b[38;5;241m.\u001b[39mentities \u001b[38;5;241m=\u001b[39m []\n\u001b[0;32m     70\u001b[0m \u001b[38;5;28mself\u001b[39m\u001b[38;5;241m.\u001b[39mturnNo \u001b[38;5;241m=\u001b[39m \u001b[38;5;241m0\u001b[39m\n\u001b[1;32m---> 71\u001b[0m \u001b[38;5;28mself\u001b[39m\u001b[38;5;241m.\u001b[39mneural \u001b[38;5;241m=\u001b[39m nn([\u001b[38;5;241m5_000\u001b[39m, \u001b[38;5;241m20\u001b[39m, \u001b[38;5;241m20\u001b[39m, \u001b[38;5;241m3\u001b[39m], [\u001b[43mnn\u001b[49m\u001b[38;5;241;43m.\u001b[39;49m\u001b[43mleakyRelu\u001b[49m, nn\u001b[38;5;241m.\u001b[39mleakyRelu, nn\u001b[38;5;241m.\u001b[39mleakyRelu])\n\u001b[0;32m     73\u001b[0m pinkSheep \u001b[38;5;241m=\u001b[39m Sheep(\n\u001b[0;32m     74\u001b[0m     (\n\u001b[0;32m     75\u001b[0m         \u001b[38;5;28mglobals\u001b[39m\u001b[38;5;241m.\u001b[39mgame_width \u001b[38;5;241m/\u001b[39m \u001b[38;5;241m2\u001b[39m,\n\u001b[0;32m     76\u001b[0m         \u001b[38;5;28mglobals\u001b[39m\u001b[38;5;241m.\u001b[39mgame_height \u001b[38;5;241m/\u001b[39m \u001b[38;5;241m2\u001b[39m,\n\u001b[0;32m     77\u001b[0m     )\n\u001b[0;32m     78\u001b[0m )\n\u001b[0;32m     79\u001b[0m pinkSheep\u001b[38;5;241m.\u001b[39mcolor \u001b[38;5;241m=\u001b[39m (\u001b[38;5;241m255\u001b[39m, \u001b[38;5;241m0\u001b[39m, \u001b[38;5;241m255\u001b[39m)\n",
      "\u001b[1;31mAttributeError\u001b[0m: type object 'NeuralNetwork' has no attribute 'leakyRelu'"
     ]
    }
   ],
   "source": [
    "timer_total.tic()\n",
    "game = Game(display=True, repetitions=10)\n",
    "\n",
    "game.start()\n",
    "\n",
    "\n",
    "timer_total.toc()"
   ]
  },
  {
   "cell_type": "code",
   "execution_count": 5,
   "metadata": {},
   "outputs": [],
   "source": [
    "import cv2\n",
    "import time\n",
    "\n",
    "cv2.namedWindow('Test', cv2.WINDOW_NORMAL)\n",
    "\n",
    "outlook = display.game.get_outlook((200, 200), 10, 10)\n",
    "# outlook = cv2.cvtColor(outlook, cv2.COLOR_BGR2RGB)\n",
    "cv2.imshow('Test', cv2.resize(outlook, (800, 800)))\n",
    "time.sleep(10)\n",
    "cv2.destroyAllWindows()\n"
   ]
  },
  {
   "cell_type": "code",
   "execution_count": null,
   "metadata": {},
   "outputs": [],
   "source": [
    "Sheep.brain.save(f\"v{6}/sheepResult{result_no}.keras\")\n",
    "Wolf.brain.save(f\"v{6}/wolfResult{result_no}.keras\")\n"
   ]
  },
  {
   "cell_type": "code",
   "execution_count": 23,
   "metadata": {},
   "outputs": [
    {
     "name": "stdout",
     "output_type": "stream",
     "text": [
      "Predict:\n",
      "Total time: 671.454 s\n",
      "Total calls: 3618363\n",
      "Average time: 0.0001855684462835818 s\n",
      "State:\n",
      "Total time: 80.878 s\n",
      "Total calls: 1526928\n",
      "Average time: 5.296778891997527e-05 s\n",
      "Total:\n",
      "Total time: 9717.938 s\n",
      "Total calls: 3\n",
      "Average time: 3239.3126666666667 s\n",
      "Fit:\n",
      "Total time: 2235.219 s\n",
      "Total calls: 2268336\n",
      "Average time: 0.0009854003110650275 s\n"
     ]
    }
   ],
   "source": [
    "timer_total.toc()\n",
    "print(\"Predict:\")\n",
    "timer_predict.stats()\n",
    "\n",
    "print(\"State:\")\n",
    "timer_state.stats()\n",
    "\n",
    "print(\"Total:\")\n",
    "timer_total.stats()\n",
    "\n",
    "print(\"Fit:\")\n",
    "timer_fit.stats()"
   ]
  },
  {
   "cell_type": "code",
   "execution_count": 17,
   "metadata": {},
   "outputs": [
    {
     "data": {
      "text/plain": [
       "[array([0.8996169 , 0.01416917, 0.25835288, ..., 0.9195114 , 0.80532825,\n",
       "        0.05781968], dtype=float32),\n",
       " array([-2.8363463e-01,  1.7108759e+01, -1.9682990e-01, -6.6277407e-02,\n",
       "         4.7367139e+00, -4.9556732e-01,  1.0721469e+01, -2.1368131e-01,\n",
       "         4.3215919e+01, -1.8909141e-01, -1.8050490e-01,  1.7080132e+01,\n",
       "        -3.8919860e-01, -1.5761515e-01, -8.1269732e-03,  3.3955742e+01,\n",
       "        -1.1816968e-01,  1.5361635e+01,  6.1501994e+00, -3.6550304e-01],\n",
       "       dtype=float32),\n",
       " array([-1.9757593e-01,  2.8894001e+01,  4.7362137e+01, -3.1388485e-01,\n",
       "        -4.2552507e-01,  4.1247330e+01,  7.4024971e+01, -2.3496126e-01,\n",
       "        -4.6933168e-01,  1.7948112e+01, -9.3687639e-02, -1.4016317e-01,\n",
       "         2.4804810e+01,  8.1467484e+01, -5.0104331e-02, -2.9311940e-01,\n",
       "         3.1752447e+01, -1.7504182e-01,  4.1934204e+01, -5.0533572e-03],\n",
       "       dtype=float32),\n",
       " array([-0.01610544,  1.6846498 , -0.13903889], dtype=float32)]"
      ]
     },
     "execution_count": 17,
     "metadata": {},
     "output_type": "execute_result"
    }
   ],
   "source": [
    "display.game.neural.layers"
   ]
  },
  {
   "cell_type": "code",
   "execution_count": null,
   "metadata": {},
   "outputs": [],
   "source": []
  }
 ],
 "metadata": {
  "kernelspec": {
   "display_name": "Python 3",
   "language": "python",
   "name": "python3"
  },
  "language_info": {
   "codemirror_mode": {
    "name": "ipython",
    "version": 3
   },
   "file_extension": ".py",
   "mimetype": "text/x-python",
   "name": "python",
   "nbconvert_exporter": "python",
   "pygments_lexer": "ipython3",
   "version": "3.12.2"
  }
 },
 "nbformat": 4,
 "nbformat_minor": 2
}
