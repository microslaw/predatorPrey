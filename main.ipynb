{
 "cells": [
  {
   "cell_type": "code",
   "execution_count": 1,
   "metadata": {},
   "outputs": [],
   "source": [
    "%load_ext autoreload\n",
    "%autoreload 2"
   ]
  },
  {
   "cell_type": "code",
   "execution_count": 2,
   "metadata": {},
   "outputs": [
    {
     "name": "stdout",
     "output_type": "stream",
     "text": [
      "pygame 2.5.2 (SDL 2.28.3, Python 3.12.2)\n",
      "Hello from the pygame community. https://www.pygame.org/contribute.html\n"
     ]
    }
   ],
   "source": [
    "from timer import *\n",
    "from utils import  mkdir_if_not_exist\n",
    "import globals\n",
    "\n",
    "from sheep import Sheep\n",
    "from wolf import Wolf\n",
    "from grass import Grass\n",
    "#grass has no brain, so it is not imported\n",
    "\n",
    "from game import Game\n",
    "from display import Display"
   ]
  },
  {
   "cell_type": "code",
   "execution_count": 3,
   "metadata": {},
   "outputs": [],
   "source": [
    "Sheep.add_brain()\n",
    "Wolf.add_brain()\n",
    "\n",
    "mkdir_if_not_exist(f\"mk6.{globals.version_no}\")\n",
    "Sheep.brain.save(f\"mk6.{globals.version_no}/sheep_brain_initial.pkl\")\n",
    "Wolf.brain.save(f\"mk6.{globals.version_no}/wolf_brain_initial.pkl\")"
   ]
  },
  {
   "cell_type": "code",
   "execution_count": 4,
   "metadata": {},
   "outputs": [
    {
     "name": "stdout",
     "output_type": "stream",
     "text": [
      "Game 0\n",
      "Game 1\n"
     ]
    },
    {
     "ename": "KeyboardInterrupt",
     "evalue": "",
     "output_type": "error",
     "traceback": [
      "\u001b[1;31m---------------------------------------------------------------------------\u001b[0m",
      "\u001b[1;31mKeyboardInterrupt\u001b[0m                         Traceback (most recent call last)",
      "Cell \u001b[1;32mIn[4], line 11\u001b[0m\n\u001b[0;32m      9\u001b[0m \u001b[38;5;28;01mtry\u001b[39;00m:\n\u001b[0;32m     10\u001b[0m     game\u001b[38;5;241m.\u001b[39msetup()\n\u001b[1;32m---> 11\u001b[0m     \u001b[43mgame\u001b[49m\u001b[38;5;241;43m.\u001b[39;49m\u001b[43mplay\u001b[49m\u001b[43m(\u001b[49m\u001b[43m)\u001b[49m\n\u001b[0;32m     13\u001b[0m     Sheep\u001b[38;5;241m.\u001b[39madd_brain()\n\u001b[0;32m     14\u001b[0m     Wolf\u001b[38;5;241m.\u001b[39madd_brain()\n",
      "File \u001b[1;32mc:\\projects\\predatorPrey\\game.py:172\u001b[0m, in \u001b[0;36mGame.play\u001b[1;34m(self, turns_max)\u001b[0m\n\u001b[0;32m    169\u001b[0m \u001b[38;5;28;01mdef\u001b[39;00m \u001b[38;5;21mplay\u001b[39m(\u001b[38;5;28mself\u001b[39m, turns_max\u001b[38;5;241m=\u001b[39m\u001b[38;5;241m1000\u001b[39m):\n\u001b[0;32m    170\u001b[0m     \u001b[38;5;66;03m# self.display.setup()\u001b[39;00m\n\u001b[0;32m    171\u001b[0m     \u001b[38;5;28;01mwhile\u001b[39;00m turns_max \u001b[38;5;241m!=\u001b[39m \u001b[38;5;28mself\u001b[39m\u001b[38;5;241m.\u001b[39mturnNo:\n\u001b[1;32m--> 172\u001b[0m         \u001b[38;5;28;43mself\u001b[39;49m\u001b[38;5;241;43m.\u001b[39;49m\u001b[43mturn\u001b[49m\u001b[43m(\u001b[49m\u001b[43m)\u001b[49m\n\u001b[0;32m    173\u001b[0m         \u001b[38;5;28mself\u001b[39m\u001b[38;5;241m.\u001b[39mturnNo \u001b[38;5;241m+\u001b[39m\u001b[38;5;241m=\u001b[39m \u001b[38;5;241m1\u001b[39m\n\u001b[0;32m    175\u001b[0m         \u001b[38;5;28;01mif\u001b[39;00m \u001b[38;5;28mself\u001b[39m\u001b[38;5;241m.\u001b[39mdisplay \u001b[38;5;129;01mis\u001b[39;00m \u001b[38;5;129;01mnot\u001b[39;00m \u001b[38;5;28;01mNone\u001b[39;00m:\n",
      "File \u001b[1;32mc:\\projects\\predatorPrey\\game.py:145\u001b[0m, in \u001b[0;36mGame.turn\u001b[1;34m(self)\u001b[0m\n\u001b[0;32m    142\u001b[0m \u001b[38;5;28;01mdef\u001b[39;00m \u001b[38;5;21mturn\u001b[39m(\u001b[38;5;28mself\u001b[39m):\n\u001b[0;32m    144\u001b[0m     timer_outlook_global\u001b[38;5;241m.\u001b[39mtic()\n\u001b[1;32m--> 145\u001b[0m     \u001b[38;5;28mself\u001b[39m\u001b[38;5;241m.\u001b[39mglobal_outlook \u001b[38;5;241m=\u001b[39m \u001b[38;5;28;43mself\u001b[39;49m\u001b[38;5;241;43m.\u001b[39;49m\u001b[43mget_global_outlook\u001b[49m\u001b[43m(\u001b[49m\u001b[43m)\u001b[49m\n\u001b[0;32m    146\u001b[0m     timer_outlook_global\u001b[38;5;241m.\u001b[39mtoc()\n\u001b[0;32m    148\u001b[0m     \u001b[38;5;28;01mfor\u001b[39;00m entity \u001b[38;5;129;01min\u001b[39;00m \u001b[38;5;28mself\u001b[39m\u001b[38;5;241m.\u001b[39mentities:\n\u001b[0;32m    149\u001b[0m         \u001b[38;5;66;03m# print(f\"Name: {entity.name}, current hp: {entity.hp}, current food: {entity.food}\")\u001b[39;00m\n",
      "File \u001b[1;32mc:\\projects\\predatorPrey\\game.py:297\u001b[0m, in \u001b[0;36mGame.get_global_outlook\u001b[1;34m(self, scale)\u001b[0m\n\u001b[0;32m    295\u001b[0m padded_x \u001b[38;5;241m=\u001b[39m \u001b[38;5;28mint\u001b[39m(x \u001b[38;5;241m+\u001b[39m \u001b[38;5;28mself\u001b[39m\u001b[38;5;241m.\u001b[39moutlook_padding)\n\u001b[0;32m    296\u001b[0m padded_y \u001b[38;5;241m=\u001b[39m \u001b[38;5;28mint\u001b[39m(y \u001b[38;5;241m+\u001b[39m \u001b[38;5;28mself\u001b[39m\u001b[38;5;241m.\u001b[39moutlook_padding)\n\u001b[1;32m--> 297\u001b[0m X,Y \u001b[38;5;241m=\u001b[39m \u001b[43mnp\u001b[49m\u001b[38;5;241;43m.\u001b[39;49m\u001b[43mogrid\u001b[49m\u001b[43m[\u001b[49m\n\u001b[0;32m    298\u001b[0m \u001b[43m    \u001b[49m\u001b[43mpadded_x\u001b[49m\u001b[43m \u001b[49m\u001b[38;5;241;43m-\u001b[39;49m\u001b[43m \u001b[49m\u001b[43msize\u001b[49m\u001b[43m \u001b[49m\u001b[43m:\u001b[49m\u001b[43m \u001b[49m\u001b[38;5;28;43mmin\u001b[39;49m\u001b[43m(\u001b[49m\u001b[43mpadded_x\u001b[49m\u001b[43m \u001b[49m\u001b[38;5;241;43m+\u001b[39;49m\u001b[43m \u001b[49m\u001b[43msize\u001b[49m\u001b[43m,\u001b[49m\u001b[43m \u001b[49m\u001b[43mw\u001b[49m\u001b[43m \u001b[49m\u001b[38;5;241;43m+\u001b[39;49m\u001b[43m \u001b[49m\u001b[38;5;241;43m2\u001b[39;49m\u001b[43m \u001b[49m\u001b[38;5;241;43m*\u001b[39;49m\u001b[43m \u001b[49m\u001b[38;5;28;43mself\u001b[39;49m\u001b[38;5;241;43m.\u001b[39;49m\u001b[43moutlook_padding\u001b[49m\u001b[38;5;241;43m-\u001b[39;49m\u001b[38;5;241;43m1\u001b[39;49m\u001b[43m)\u001b[49m\u001b[43m,\u001b[49m\n\u001b[0;32m    299\u001b[0m \u001b[43m    \u001b[49m\u001b[43mpadded_y\u001b[49m\u001b[43m \u001b[49m\u001b[38;5;241;43m-\u001b[39;49m\u001b[43m \u001b[49m\u001b[43msize\u001b[49m\u001b[43m \u001b[49m\u001b[43m:\u001b[49m\u001b[43m \u001b[49m\u001b[38;5;28;43mmin\u001b[39;49m\u001b[43m(\u001b[49m\u001b[43mpadded_y\u001b[49m\u001b[43m \u001b[49m\u001b[38;5;241;43m+\u001b[39;49m\u001b[43m \u001b[49m\u001b[43msize\u001b[49m\u001b[43m,\u001b[49m\u001b[43m \u001b[49m\u001b[43mh\u001b[49m\u001b[43m \u001b[49m\u001b[38;5;241;43m+\u001b[39;49m\u001b[43m \u001b[49m\u001b[38;5;241;43m2\u001b[39;49m\u001b[43m \u001b[49m\u001b[38;5;241;43m*\u001b[39;49m\u001b[43m \u001b[49m\u001b[38;5;28;43mself\u001b[39;49m\u001b[38;5;241;43m.\u001b[39;49m\u001b[43moutlook_padding\u001b[49m\u001b[38;5;241;43m-\u001b[39;49m\u001b[38;5;241;43m1\u001b[39;49m\u001b[43m)\u001b[49m\u001b[43m,\u001b[49m\n\u001b[0;32m    300\u001b[0m \u001b[43m\u001b[49m\u001b[43m]\u001b[49m\n\u001b[0;32m    302\u001b[0m dist_from_center \u001b[38;5;241m=\u001b[39m (X \u001b[38;5;241m-\u001b[39m padded_x\u001b[38;5;241m+\u001b[39m\u001b[38;5;241m0.5\u001b[39m) \u001b[38;5;241m*\u001b[39m\u001b[38;5;241m*\u001b[39m \u001b[38;5;241m2\u001b[39m \u001b[38;5;241m+\u001b[39m (Y \u001b[38;5;241m-\u001b[39m padded_y\u001b[38;5;241m+\u001b[39m\u001b[38;5;241m0.5\u001b[39m) \u001b[38;5;241m*\u001b[39m\u001b[38;5;241m*\u001b[39m \u001b[38;5;241m2\u001b[39m\n\u001b[0;32m    303\u001b[0m mask \u001b[38;5;241m=\u001b[39m dist_from_center \u001b[38;5;241m<\u001b[39m\u001b[38;5;241m=\u001b[39m size\u001b[38;5;241m*\u001b[39m\u001b[38;5;241m*\u001b[39m\u001b[38;5;241m2\u001b[39m\n",
      "File \u001b[1;32m~\\AppData\\Roaming\\Python\\Python312\\site-packages\\numpy\\lib\\index_tricks.py:170\u001b[0m, in \u001b[0;36mnd_grid.__getitem__\u001b[1;34m(self, key)\u001b[0m\n\u001b[0;32m    168\u001b[0m typ \u001b[38;5;241m=\u001b[39m _nx\u001b[38;5;241m.\u001b[39mresult_type(\u001b[38;5;241m*\u001b[39mnum_list)\n\u001b[0;32m    169\u001b[0m \u001b[38;5;28;01mif\u001b[39;00m \u001b[38;5;28mself\u001b[39m\u001b[38;5;241m.\u001b[39msparse:\n\u001b[1;32m--> 170\u001b[0m     nn \u001b[38;5;241m=\u001b[39m [\u001b[43m_nx\u001b[49m\u001b[38;5;241;43m.\u001b[39;49m\u001b[43marange\u001b[49m\u001b[43m(\u001b[49m\u001b[43m_x\u001b[49m\u001b[43m,\u001b[49m\u001b[43m \u001b[49m\u001b[43mdtype\u001b[49m\u001b[38;5;241;43m=\u001b[39;49m\u001b[43m_t\u001b[49m\u001b[43m)\u001b[49m\n\u001b[0;32m    171\u001b[0m           \u001b[38;5;28;01mfor\u001b[39;00m _x, _t \u001b[38;5;129;01min\u001b[39;00m \u001b[38;5;28mzip\u001b[39m(size, (typ,)\u001b[38;5;241m*\u001b[39m\u001b[38;5;28mlen\u001b[39m(size))]\n\u001b[0;32m    172\u001b[0m \u001b[38;5;28;01melse\u001b[39;00m:\n\u001b[0;32m    173\u001b[0m     nn \u001b[38;5;241m=\u001b[39m _nx\u001b[38;5;241m.\u001b[39mindices(size, typ)\n",
      "\u001b[1;31mKeyboardInterrupt\u001b[0m: "
     ]
    }
   ],
   "source": [
    "timer_total.tic()\n",
    "game = Game(\n",
    "    # display=Display(),\n",
    ")\n",
    "iteration = 0\n",
    "\n",
    "for i in range(100000):\n",
    "    print(f\"Game {i}\")\n",
    "    try:\n",
    "        game.setup()\n",
    "        game.play()\n",
    "\n",
    "        Sheep.add_brain()\n",
    "        Wolf.add_brain()\n",
    "\n",
    "\n",
    "        animals = [entity for entity in game.entities if type(entity) is not Grass]\n",
    "        if len(animals) > 0:\n",
    "\n",
    "            nan_count = sum(np.isnan(animals[0].brain.readOutput()))\n",
    "        else:\n",
    "            nan_count = 0\n",
    "\n",
    "        if nan_count>0:\n",
    "            Sheep.add_brain()\n",
    "            Wolf.add_brain()\n",
    "            globals.version_no += 1\n",
    "            iteration = 0\n",
    "        else:\n",
    "            mkdir_if_not_exist(f\"mk6/mk6.{globals.version_no}_iteration_{iteration}\")\n",
    "            Sheep.brain.save(f\"mk6/mk6.{globals.version_no}_iteration_{iteration}/sheep_brain_initial.pkl\")\n",
    "            Wolf.brain.save(f\"mk6/mk6.{globals.version_no}_iteration_{iteration}/wolf_brain_initial.pkl\")\n",
    "            iteration += 1\n",
    "    except Exception as e:\n",
    "        print(e)\n",
    "\n",
    "game.display.cleanup()\n",
    "\n",
    "timer_total.toc()"
   ]
  },
  {
   "cell_type": "code",
   "execution_count": 9,
   "metadata": {},
   "outputs": [
    {
     "name": "stdout",
     "output_type": "stream",
     "text": [
      "0.9995308 -0.99964255\n",
      "0.73498607 -0.82637453\n",
      "0.95414966 -0.9860512\n"
     ]
    },
    {
     "data": {
      "text/plain": [
       "215"
      ]
     },
     "execution_count": 9,
     "metadata": {},
     "output_type": "execute_result"
    }
   ],
   "source": [
    "for i in Sheep.brain.layers:\n",
    "    print(i.max(), i.min())\n",
    "game.turnNo"
   ]
  },
  {
   "cell_type": "code",
   "execution_count": null,
   "metadata": {},
   "outputs": [],
   "source": [
    "mkdir_if_not_exist(f\"mk{globals.version_no}\")\n",
    "\n",
    "Sheep.brain.save(f\"mk{globals.version_no}/sheepResult{1}.keras\")\n",
    "Wolf.brain.save(f\"mk{globals.version_no}/wolfResult{1}.keras\")\n"
   ]
  },
  {
   "cell_type": "code",
   "execution_count": 10,
   "metadata": {},
   "outputs": [
    {
     "name": "stdout",
     "output_type": "stream",
     "text": [
      "Predict:\n",
      "Total time: 1.062 s\n",
      "Total calls: 5912\n",
      "Average time: 0.00017963464140730717 s\n",
      "\n",
      "Total:\n",
      "Total time: 481.281 s\n",
      "Total calls: 1\n",
      "Average time: 481.281 s\n",
      "\n",
      "Fit:\n",
      "Total time: 7.231 s\n",
      "Total calls: 9667\n",
      "Average time: 0.0007480086893555394 s\n",
      "\n",
      "Outlook:\n",
      "Total time: 453.006 s\n",
      "Total calls: 9633\n",
      "Average time: 0.0470264715042043 s\n",
      "\n",
      "Outlook global:\n",
      "Total time: 59.345 s\n",
      "Total calls: 530\n",
      "Average time: 0.11197169811320755 s\n",
      "\n"
     ]
    }
   ],
   "source": [
    "print(\"Predict:\")\n",
    "timer_predict.stats()\n",
    "\n",
    "print(\"Total:\")\n",
    "timer_total.stats()\n",
    "\n",
    "print(\"Fit:\")\n",
    "timer_fit.stats()\n",
    "\n",
    "print(\"Outlook:\")\n",
    "timer_outlook.stats()\n",
    "\n",
    "print(\"Outlook global:\")\n",
    "timer_outlook_global.stats()"
   ]
  },
  {
   "cell_type": "code",
   "execution_count": null,
   "metadata": {},
   "outputs": [
    {
     "data": {
      "text/plain": [
       "[(-4, -4),\n",
       " (-4, -3),\n",
       " (-4, -2),\n",
       " (-4, -1),\n",
       " (-4, 0),\n",
       " (-4, 1),\n",
       " (-4, 2),\n",
       " (-4, 3),\n",
       " (-4, 4),\n",
       " (-3, -4),\n",
       " (-3, -3),\n",
       " (-3, -2),\n",
       " (-3, -1),\n",
       " (-3, 0),\n",
       " (-3, 1),\n",
       " (-3, 2),\n",
       " (-3, 3),\n",
       " (-3, 4),\n",
       " (-2, -4),\n",
       " (-2, -3),\n",
       " (-2, -2),\n",
       " (-2, -1),\n",
       " (-2, 0),\n",
       " (-2, 1),\n",
       " (-2, 2),\n",
       " (-2, 3),\n",
       " (-2, 4),\n",
       " (-1, -4),\n",
       " (-1, -3),\n",
       " (-1, -2),\n",
       " (-1, -1),\n",
       " (-1, 0),\n",
       " (-1, 1),\n",
       " (-1, 2),\n",
       " (-1, 3),\n",
       " (-1, 4),\n",
       " (0, -4),\n",
       " (0, -3),\n",
       " (0, -2),\n",
       " (0, -1),\n",
       " (0, 0),\n",
       " (0, 1),\n",
       " (0, 2),\n",
       " (0, 3),\n",
       " (0, 4),\n",
       " (1, -4),\n",
       " (1, -3),\n",
       " (1, -2),\n",
       " (1, -1),\n",
       " (1, 0),\n",
       " (1, 1),\n",
       " (1, 2),\n",
       " (1, 3),\n",
       " (1, 4),\n",
       " (2, -4),\n",
       " (2, -3),\n",
       " (2, -2),\n",
       " (2, -1),\n",
       " (2, 0),\n",
       " (2, 1),\n",
       " (2, 2),\n",
       " (2, 3),\n",
       " (2, 4),\n",
       " (3, -4),\n",
       " (3, -3),\n",
       " (3, -2),\n",
       " (3, -1),\n",
       " (3, 0),\n",
       " (3, 1),\n",
       " (3, 2),\n",
       " (3, 3),\n",
       " (3, 4),\n",
       " (4, -4),\n",
       " (4, -3),\n",
       " (4, -2),\n",
       " (4, -1),\n",
       " (4, 0),\n",
       " (4, 1),\n",
       " (4, 2),\n",
       " (4, 3),\n",
       " (4, 4)]"
      ]
     },
     "execution_count": 10,
     "metadata": {},
     "output_type": "execute_result"
    }
   ],
   "source": [
    "import utils\n",
    "utils.generate_outputs(4)"
   ]
  },
  {
   "cell_type": "code",
   "execution_count": null,
   "metadata": {},
   "outputs": [],
   "source": []
  }
 ],
 "metadata": {
  "kernelspec": {
   "display_name": "Python 3",
   "language": "python",
   "name": "python3"
  },
  "language_info": {
   "codemirror_mode": {
    "name": "ipython",
    "version": 3
   },
   "file_extension": ".py",
   "mimetype": "text/x-python",
   "name": "python",
   "nbconvert_exporter": "python",
   "pygments_lexer": "ipython3",
   "version": "3.12.2"
  }
 },
 "nbformat": 4,
 "nbformat_minor": 2
}
