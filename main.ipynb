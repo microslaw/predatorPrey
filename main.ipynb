{
 "cells": [
  {
   "cell_type": "code",
   "execution_count": 8,
   "metadata": {},
   "outputs": [
    {
     "name": "stdout",
     "output_type": "stream",
     "text": [
      "The autoreload extension is already loaded. To reload it, use:\n",
      "  %reload_ext autoreload\n"
     ]
    }
   ],
   "source": [
    "%load_ext autoreload\n",
    "%autoreload 2"
   ]
  },
  {
   "cell_type": "code",
   "execution_count": 9,
   "metadata": {},
   "outputs": [],
   "source": [
    "from timer import *\n",
    "from utils import  mkdir_if_not_exist\n",
    "import globals\n",
    "\n",
    "from sheep import Sheep\n",
    "from wolf import Wolf\n",
    "from grass import Grass\n",
    "#grass has no brain, so it is not imported\n",
    "\n",
    "from game import Game\n",
    "from display import Display\n",
    "import neuralNetwork as nn"
   ]
  },
  {
   "cell_type": "code",
   "execution_count": 10,
   "metadata": {},
   "outputs": [],
   "source": [
    "\n",
    "# Sheep.add_brain(nn.load(\"models/learned99/sheep.pkl\"))\n",
    "# Wolf.add_brain(nn.load(\"models/learned99/sheep.pkl\"))\n",
    "\n",
    "Sheep.add_brain()\n",
    "Wolf.add_brain()\n",
    "\n",
    "# mkdir_if_not_exist(f\"learned\")\n",
    "# Sheep.brain.save(f\"learned/starvingSheep.pkl\")\n",
    "# Wolf.brain.save(f\"learned/starvingWolf.pkl\")"
   ]
  },
  {
   "cell_type": "code",
   "execution_count": 7,
   "metadata": {},
   "outputs": [
    {
     "name": "stdout",
     "output_type": "stream",
     "text": [
      "Game 0\n"
     ]
    },
    {
     "ename": "ValueError",
     "evalue": "shapes (11165,) and (5045,10) not aligned: 11165 (dim 0) != 5045 (dim 0)",
     "output_type": "error",
     "traceback": [
      "\u001b[1;31m---------------------------------------------------------------------------\u001b[0m",
      "\u001b[1;31mValueError\u001b[0m                                Traceback (most recent call last)",
      "Cell \u001b[1;32mIn[7], line 10\u001b[0m\n\u001b[0;32m      8\u001b[0m \u001b[38;5;28mprint\u001b[39m(\u001b[38;5;124mf\u001b[39m\u001b[38;5;124m\"\u001b[39m\u001b[38;5;124mGame \u001b[39m\u001b[38;5;132;01m{\u001b[39;00mi\u001b[38;5;132;01m}\u001b[39;00m\u001b[38;5;124m\"\u001b[39m)\n\u001b[0;32m      9\u001b[0m game\u001b[38;5;241m.\u001b[39msetup()\n\u001b[1;32m---> 10\u001b[0m \u001b[43mgame\u001b[49m\u001b[38;5;241;43m.\u001b[39;49m\u001b[43mplay\u001b[49m\u001b[43m(\u001b[49m\u001b[43m)\u001b[49m\n\u001b[0;32m     12\u001b[0m \u001b[38;5;28;01mfor\u001b[39;00m entity \u001b[38;5;129;01min\u001b[39;00m game\u001b[38;5;241m.\u001b[39mentities:\n\u001b[0;32m     13\u001b[0m     \u001b[38;5;28;01mif\u001b[39;00m entity\u001b[38;5;241m.\u001b[39mchosen:\n",
      "File \u001b[1;32mc:\\projects\\predatorPrey\\game.py:172\u001b[0m, in \u001b[0;36mGame.play\u001b[1;34m(self, turns_max)\u001b[0m\n\u001b[0;32m    170\u001b[0m \u001b[38;5;28;01mdef\u001b[39;00m \u001b[38;5;21mplay\u001b[39m(\u001b[38;5;28mself\u001b[39m, turns_max\u001b[38;5;241m=\u001b[39m\u001b[38;5;241m200\u001b[39m):\n\u001b[0;32m    171\u001b[0m     \u001b[38;5;28;01mwhile\u001b[39;00m turns_max \u001b[38;5;241m!=\u001b[39m \u001b[38;5;28mself\u001b[39m\u001b[38;5;241m.\u001b[39mturnNo:\n\u001b[1;32m--> 172\u001b[0m         \u001b[38;5;28;43mself\u001b[39;49m\u001b[38;5;241;43m.\u001b[39;49m\u001b[43mturn\u001b[49m\u001b[43m(\u001b[49m\u001b[43m)\u001b[49m\n\u001b[0;32m    173\u001b[0m         \u001b[38;5;28mself\u001b[39m\u001b[38;5;241m.\u001b[39mturnNo \u001b[38;5;241m+\u001b[39m\u001b[38;5;241m=\u001b[39m \u001b[38;5;241m1\u001b[39m\n\u001b[0;32m    175\u001b[0m         \u001b[38;5;28;01mif\u001b[39;00m \u001b[38;5;28mself\u001b[39m\u001b[38;5;241m.\u001b[39mdisplay \u001b[38;5;129;01mis\u001b[39;00m \u001b[38;5;129;01mnot\u001b[39;00m \u001b[38;5;28;01mNone\u001b[39;00m:\n",
      "File \u001b[1;32mc:\\projects\\predatorPrey\\game.py:155\u001b[0m, in \u001b[0;36mGame.turn\u001b[1;34m(self)\u001b[0m\n\u001b[0;32m    153\u001b[0m     timer_outlook\u001b[38;5;241m.\u001b[39mtic()\n\u001b[0;32m    154\u001b[0m     outlook \u001b[38;5;241m=\u001b[39m \u001b[38;5;28mself\u001b[39m\u001b[38;5;241m.\u001b[39mget_outlook(entity)\n\u001b[1;32m--> 155\u001b[0m     \u001b[43mentity\u001b[49m\u001b[38;5;241;43m.\u001b[39;49m\u001b[43mact\u001b[49m\u001b[43m(\u001b[49m\u001b[43moutlook\u001b[49m\u001b[43m,\u001b[49m\u001b[43m \u001b[49m\u001b[38;5;28;43mself\u001b[39;49m\u001b[38;5;241;43m.\u001b[39;49m\u001b[43mget_entity_dict\u001b[49m\u001b[43m(\u001b[49m\u001b[43m)\u001b[49m\u001b[43m)\u001b[49m\n\u001b[0;32m    156\u001b[0m     timer_outlook\u001b[38;5;241m.\u001b[39mtoc()\n\u001b[0;32m    159\u001b[0m timer_collisions\u001b[38;5;241m.\u001b[39mtic()\n",
      "File \u001b[1;32mc:\\projects\\predatorPrey\\entity.py:90\u001b[0m, in \u001b[0;36mEntity.act\u001b[1;34m(self, outlook, entityDict)\u001b[0m\n\u001b[0;32m     88\u001b[0m \u001b[38;5;28;01mif\u001b[39;00m \u001b[38;5;28mself\u001b[39m\u001b[38;5;241m.\u001b[39mfood \u001b[38;5;241m<\u001b[39m \u001b[38;5;241m0\u001b[39m:\n\u001b[0;32m     89\u001b[0m     \u001b[38;5;28mself\u001b[39m\u001b[38;5;241m.\u001b[39mhp \u001b[38;5;241m-\u001b[39m\u001b[38;5;241m=\u001b[39m \u001b[38;5;28mglobals\u001b[39m\u001b[38;5;241m.\u001b[39mstarving_damage\n\u001b[1;32m---> 90\u001b[0m move \u001b[38;5;241m=\u001b[39m \u001b[38;5;28;43mself\u001b[39;49m\u001b[38;5;241;43m.\u001b[39;49m\u001b[43mdecide\u001b[49m\u001b[43m(\u001b[49m\u001b[43moutlook\u001b[49m\u001b[43m)\u001b[49m\n\u001b[0;32m     91\u001b[0m \u001b[38;5;28mself\u001b[39m\u001b[38;5;241m.\u001b[39mperform_move(move)\n\u001b[0;32m     92\u001b[0m \u001b[38;5;28;01mif\u001b[39;00m \u001b[38;5;28mself\u001b[39m\u001b[38;5;241m.\u001b[39mlearner:\n",
      "File \u001b[1;32mc:\\projects\\predatorPrey\\entity.py:101\u001b[0m, in \u001b[0;36mEntity.decide\u001b[1;34m(self, outlook)\u001b[0m\n\u001b[0;32m     99\u001b[0m state \u001b[38;5;241m=\u001b[39m \u001b[38;5;28mself\u001b[39m\u001b[38;5;241m.\u001b[39mget_state(outlook)\n\u001b[0;32m    100\u001b[0m \u001b[38;5;28mself\u001b[39m\u001b[38;5;241m.\u001b[39mprevious_state \u001b[38;5;241m=\u001b[39m state\n\u001b[1;32m--> 101\u001b[0m move \u001b[38;5;241m=\u001b[39m \u001b[38;5;28;43mself\u001b[39;49m\u001b[38;5;241;43m.\u001b[39;49m\u001b[43mbrain\u001b[49m\u001b[38;5;241;43m.\u001b[39;49m\u001b[43mpredict\u001b[49m\u001b[43m(\u001b[49m\u001b[43mstate\u001b[49m\u001b[43m)\u001b[49m\n\u001b[0;32m    102\u001b[0m \u001b[38;5;28mself\u001b[39m\u001b[38;5;241m.\u001b[39mprevious_estimates \u001b[38;5;241m=\u001b[39m move\n\u001b[0;32m    103\u001b[0m timer_predict\u001b[38;5;241m.\u001b[39mtoc()\n",
      "File \u001b[1;32mc:\\projects\\predatorPrey\\neuralNetwork.py:110\u001b[0m, in \u001b[0;36mNeuralNetwork.predict\u001b[1;34m(self, input)\u001b[0m\n\u001b[0;32m    108\u001b[0m \u001b[38;5;28;01mdef\u001b[39;00m \u001b[38;5;21mpredict\u001b[39m(\u001b[38;5;28mself\u001b[39m, \u001b[38;5;28minput\u001b[39m):\n\u001b[0;32m    109\u001b[0m     \u001b[38;5;28mself\u001b[39m\u001b[38;5;241m.\u001b[39mloadInput(\u001b[38;5;28minput\u001b[39m)\n\u001b[1;32m--> 110\u001b[0m     \u001b[38;5;28;43mself\u001b[39;49m\u001b[38;5;241;43m.\u001b[39;49m\u001b[43mforward\u001b[49m\u001b[43m(\u001b[49m\u001b[43m)\u001b[49m\n\u001b[0;32m    111\u001b[0m     \u001b[38;5;28;01mreturn\u001b[39;00m \u001b[38;5;28mself\u001b[39m\u001b[38;5;241m.\u001b[39mreadOutput()\n",
      "File \u001b[1;32mc:\\projects\\predatorPrey\\neuralNetwork.py:79\u001b[0m, in \u001b[0;36mNeuralNetwork.forward\u001b[1;34m(self)\u001b[0m\n\u001b[0;32m     76\u001b[0m \u001b[38;5;28;01mdef\u001b[39;00m \u001b[38;5;21mforward\u001b[39m(\u001b[38;5;28mself\u001b[39m):\n\u001b[0;32m     77\u001b[0m     \u001b[38;5;28;01mfor\u001b[39;00m i \u001b[38;5;129;01min\u001b[39;00m \u001b[38;5;28mrange\u001b[39m(\u001b[38;5;28mlen\u001b[39m(\u001b[38;5;28mself\u001b[39m\u001b[38;5;241m.\u001b[39mweights)):\n\u001b[0;32m     78\u001b[0m         \u001b[38;5;28mself\u001b[39m\u001b[38;5;241m.\u001b[39mlayers[i \u001b[38;5;241m+\u001b[39m \u001b[38;5;241m1\u001b[39m] \u001b[38;5;241m=\u001b[39m \u001b[38;5;28mself\u001b[39m\u001b[38;5;241m.\u001b[39mactivationFunctions[i](\n\u001b[1;32m---> 79\u001b[0m             \u001b[43mnp\u001b[49m\u001b[38;5;241;43m.\u001b[39;49m\u001b[43mdot\u001b[49m\u001b[43m(\u001b[49m\u001b[38;5;28;43mself\u001b[39;49m\u001b[38;5;241;43m.\u001b[39;49m\u001b[43mlayers\u001b[49m\u001b[43m[\u001b[49m\u001b[43mi\u001b[49m\u001b[43m]\u001b[49m\u001b[43m,\u001b[49m\u001b[43m \u001b[49m\u001b[38;5;28;43mself\u001b[39;49m\u001b[38;5;241;43m.\u001b[39;49m\u001b[43mweights\u001b[49m\u001b[43m[\u001b[49m\u001b[43mi\u001b[49m\u001b[43m]\u001b[49m\u001b[43m)\u001b[49m \u001b[38;5;241m+\u001b[39m \u001b[38;5;28mself\u001b[39m\u001b[38;5;241m.\u001b[39mbiases[i]\n\u001b[0;32m     80\u001b[0m         )\n",
      "File \u001b[1;32m<__array_function__ internals>:200\u001b[0m, in \u001b[0;36mdot\u001b[1;34m(*args, **kwargs)\u001b[0m\n",
      "\u001b[1;31mValueError\u001b[0m: shapes (11165,) and (5045,10) not aligned: 11165 (dim 0) != 5045 (dim 0)"
     ]
    }
   ],
   "source": [
    "game = Game(\n",
    "    display=Display(),\n",
    "    learning=True,\n",
    ")\n",
    "\n",
    "for i in range(10):\n",
    "    timer_total.tic()\n",
    "    print(f\"Game {i}\")\n",
    "    game.setup()\n",
    "    game.play()\n",
    "\n",
    "    for entity in game.entities:\n",
    "        if entity.chosen:\n",
    "            specimen = entity\n",
    "    animals = [entity for entity in game.entities if type(entity) is not Grass]\n",
    "    timer_total.toc()\n",
    "\n",
    "game.display.cleanup()"
   ]
  },
  {
   "cell_type": "code",
   "execution_count": 14,
   "metadata": {},
   "outputs": [
    {
     "name": "stdout",
     "output_type": "stream",
     "text": [
      "Predict:\n",
      "Total time: 2.748 s\n",
      "Total calls: 15784\n",
      "Average time: 0.00017410035478966044 s\n",
      "\n",
      "Total:\n",
      "Total time: 182.484 s\n",
      "Total calls: 7\n",
      "Average time: 26.069142857142857 s\n",
      "\n",
      "Fit:\n",
      "Total time: 19.74 s\n",
      "Total calls: 24444\n",
      "Average time: 0.0008075601374570446 s\n",
      "\n",
      "Outlook:\n",
      "Total time: 0.566 s\n",
      "Total calls: 24363\n",
      "Average time: 2.3231950088248572e-05 s\n",
      "\n",
      "Outlook global:\n",
      "Total time: 152.225 s\n",
      "Total calls: 1367\n",
      "Average time: 0.11135698610095099 s\n",
      "\n"
     ]
    }
   ],
   "source": [
    "print(\"Predict:\")\n",
    "timer_predict.stats()\n",
    "\n",
    "print(\"Total:\")\n",
    "timer_total.stats()\n",
    "\n",
    "print(\"Fit:\")\n",
    "timer_fit.stats()\n",
    "\n",
    "print(\"Outlook:\")\n",
    "timer_outlook.stats()\n",
    "\n",
    "print(\"Outlook global:\")\n",
    "timer_outlook_global.stats()"
   ]
  },
  {
   "cell_type": "code",
   "execution_count": null,
   "metadata": {},
   "outputs": [],
   "source": []
  }
 ],
 "metadata": {
  "kernelspec": {
   "display_name": "Python 3",
   "language": "python",
   "name": "python3"
  },
  "language_info": {
   "codemirror_mode": {
    "name": "ipython",
    "version": 3
   },
   "file_extension": ".py",
   "mimetype": "text/x-python",
   "name": "python",
   "nbconvert_exporter": "python",
   "pygments_lexer": "ipython3",
   "version": "3.10.7"
  }
 },
 "nbformat": 4,
 "nbformat_minor": 2
}
