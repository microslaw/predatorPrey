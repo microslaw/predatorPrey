{
 "cells": [
  {
   "cell_type": "code",
   "execution_count": 9,
   "metadata": {},
   "outputs": [
    {
     "name": "stdout",
     "output_type": "stream",
     "text": [
      "Starting tensorflow imports...\n",
      "... Imports done\n",
      "The autoreload extension is already loaded. To reload it, use:\n",
      "  %reload_ext autoreload\n"
     ]
    }
   ],
   "source": [
    "%load_ext autoreload\n",
    "%autoreload 2"
   ]
  },
  {
   "cell_type": "code",
   "execution_count": 13,
   "metadata": {},
   "outputs": [],
   "source": [
    "from timer import timer_predict, timer_state, timer_total, timer_fit\n",
    "from utils import generate_states, mkdir_if_not_exist\n",
    "from model import Model\n",
    "from globals import version_no\n",
    "result_no = 0\n",
    "input_shape = 10\n",
    "sheep_speed = 2\n",
    "wolf_speed = 3\n",
    "\n"
   ]
  },
  {
   "cell_type": "code",
   "execution_count": 14,
   "metadata": {},
   "outputs": [],
   "source": [
    "# mkdir_if_not_exist(f\"v{version_no}\")\n",
    "\n",
    "# sheep_model = Model(\n",
    "#     input_shape=input_shape,\n",
    "#     output_shape=len(generate_states(sheep_speed)),\n",
    "#     learning_rate=0.1,\n",
    "# )\n",
    "# sheep_model.save(f\"v{version_no}/sheepInitial.keras\")\n",
    "\n",
    "# wolf_model = Model(\n",
    "#     input_shape=input_shape,\n",
    "#     output_shape=len(generate_states(wolf_speed)),\n",
    "#     learning_rate=0.1,\n",
    "# )\n",
    "# wolf_model.save(f\"v{version_no}/wolfInitial.keras\")\n",
    "\n",
    "from sheep import Sheep\n",
    "from wolf import Wolf\n",
    "from display import Display"
   ]
  },
  {
   "cell_type": "code",
   "execution_count": 17,
   "metadata": {},
   "outputs": [
    {
     "name": "stdout",
     "output_type": "stream",
     "text": [
      "Model.init_model(10, 10, 0.001)\n",
      "Model.init_model(10, 10, 0.001)\n",
      "Model.init_model(10, 10, 0.001)\n",
      "Name: Sheep40, current hp: 6, current food: 50\n",
      "Name: Sheep41, current hp: 6, current food: 50\n",
      "Name: Sheep42, current hp: 6, current food: 50\n",
      "Name: Sheep43, current hp: 6, current food: 50\n",
      "Name: Sheep44, current hp: 6, current food: 50\n",
      "Name: Sheep45, current hp: 6, current food: 50\n",
      "Name: Sheep46, current hp: 6, current food: 50\n",
      "Name: Sheep47, current hp: 6, current food: 50\n",
      "Name: Sheep48, current hp: 6, current food: 50\n",
      "Name: Sheep49, current hp: 6, current food: 50\n",
      "Name: Wolf20, current hp: 10, current food: 100\n",
      "Name: Wolf21, current hp: 10, current food: 100\n",
      "Name: Wolf22, current hp: 10, current food: 100\n",
      "Name: Wolf23, current hp: 10, current food: 100\n",
      "Name: Wolf24, current hp: 10, current food: 100\n",
      "Name: Grass24, current hp: 10, current food: 0\n",
      "Name: Grass25, current hp: 10, current food: 0\n",
      "Name: Grass26, current hp: 10, current food: 0\n",
      "Name: Sheep40, current hp: 6, current food: 49.5, self reward: 1, reward: 1\n",
      "Name: Sheep41, current hp: 6, current food: 49.5, self reward: 1, reward: 1\n",
      "Name: Sheep42, current hp: 1, current food: 49.5, self reward: 0, reward: 0\n",
      "Name: Sheep43, current hp: 6, current food: 49.5, self reward: 1, reward: 1\n",
      "Name: Sheep44, current hp: 6, current food: 49.5, self reward: 1, reward: 1\n",
      "Name: Sheep45, current hp: 6, current food: 49.5, self reward: 1, reward: 1\n",
      "Name: Sheep46, current hp: 6, current food: 49.5, self reward: 1, reward: 1\n",
      "Name: Sheep47, current hp: 6, current food: 49.5, self reward: 1, reward: 1\n",
      "Name: Sheep48, current hp: 6, current food: 49.5, self reward: 1, reward: 1\n",
      "Name: Sheep49, current hp: 6, current food: 49.5, self reward: 1, reward: 1\n",
      "Name: Wolf20, current hp: 10, current food: 99.5, self reward: 1, reward: 1\n",
      "Name: Wolf21, current hp: 10, current food: 99.5, self reward: 1, reward: 1\n",
      "Name: Wolf22, current hp: 10, current food: 99.5, self reward: 1, reward: 1\n",
      "Name: Wolf23, current hp: 10, current food: 99.5, self reward: 1, reward: 1\n",
      "Name: Wolf24, current hp: 8, current food: 99.5, self reward: 1, reward: 1\n",
      "Name: Sheep40, current hp: 6, current food: 49.5\n",
      "Name: Sheep41, current hp: 6, current food: 49.5\n",
      "Name: Sheep42, current hp: 1, current food: 49.5\n",
      "Name: Sheep43, current hp: 6, current food: 49.5\n",
      "Name: Sheep44, current hp: 6, current food: 49.5\n",
      "Name: Sheep45, current hp: 6, current food: 49.5\n",
      "Name: Sheep46, current hp: 6, current food: 49.5\n",
      "Name: Sheep47, current hp: 6, current food: 49.5\n",
      "Name: Sheep48, current hp: 6, current food: 49.5\n",
      "Name: Sheep49, current hp: 6, current food: 49.5\n",
      "Name: Wolf20, current hp: 10, current food: 99.5\n",
      "Name: Wolf21, current hp: 10, current food: 99.5\n",
      "Name: Wolf22, current hp: 10, current food: 99.5\n",
      "Name: Wolf23, current hp: 10, current food: 99.5\n",
      "Name: Wolf24, current hp: 8, current food: 99.5\n",
      "Name: Grass24, current hp: 10, current food: 0\n",
      "Name: Grass25, current hp: 10, current food: 0\n",
      "Name: Grass26, current hp: 10, current food: 0\n",
      "Wolf24 killed Sheep42\n",
      "Name: Sheep40, current hp: 6, current food: 49.0, self reward: 1, reward: 1\n",
      "Name: Sheep41, current hp: 6, current food: 49.0, self reward: 1, reward: 1\n",
      "Name: Sheep42, current hp: -4, current food: 49.0, self reward: -100, reward: -100\n",
      "Name: Sheep43, current hp: 6, current food: 49.0, self reward: 1, reward: 1\n",
      "Name: Sheep44, current hp: 6, current food: 49.0, self reward: 1, reward: 1\n",
      "Name: Sheep45, current hp: 6, current food: 49.0, self reward: 1, reward: 1\n",
      "Name: Sheep46, current hp: 6, current food: 49.0, self reward: 1, reward: 1\n",
      "Name: Sheep47, current hp: 6, current food: 49.0, self reward: 1, reward: 1\n",
      "Name: Sheep48, current hp: 6, current food: 49.0, self reward: 1, reward: 1\n",
      "Name: Sheep49, current hp: 6, current food: 49.0, self reward: 1, reward: 1\n",
      "Name: Wolf20, current hp: 10, current food: 99.0, self reward: 1, reward: 1\n",
      "Name: Wolf21, current hp: 10, current food: 99.0, self reward: 1, reward: 1\n",
      "Name: Wolf22, current hp: 10, current food: 99.0, self reward: 1, reward: 1\n",
      "Name: Wolf23, current hp: 10, current food: 99.0, self reward: 1, reward: 1\n",
      "Name: Wolf24, current hp: 6, current food: 99.0, self reward: 2, reward: 2\n",
      "Model.init_model(10, 10, 0.001)\n",
      "Name: Sheep40, current hp: 6, current food: 49.0\n",
      "Name: Sheep41, current hp: 6, current food: 49.0\n",
      "Name: Sheep43, current hp: 6, current food: 49.0\n",
      "Name: Sheep44, current hp: 6, current food: 49.0\n",
      "Name: Sheep45, current hp: 6, current food: 49.0\n",
      "Name: Sheep46, current hp: 6, current food: 49.0\n",
      "Name: Sheep47, current hp: 6, current food: 49.0\n",
      "Name: Sheep48, current hp: 6, current food: 49.0\n",
      "Name: Sheep49, current hp: 6, current food: 49.0\n",
      "Name: Wolf20, current hp: 10, current food: 99.0\n",
      "Name: Wolf21, current hp: 10, current food: 99.0\n",
      "Name: Wolf22, current hp: 10, current food: 99.0\n",
      "Name: Wolf23, current hp: 10, current food: 99.0\n",
      "Name: Wolf24, current hp: 6, current food: 99.0\n",
      "Name: Grass24, current hp: 10, current food: 0\n",
      "Name: Grass25, current hp: 10, current food: 0\n",
      "Name: Grass26, current hp: 10, current food: 0\n",
      "Name: Grass27, current hp: 10, current food: 0\n",
      "Name: Sheep40, current hp: 6, current food: 48.5, self reward: 1, reward: 1\n",
      "Name: Sheep41, current hp: 6, current food: 48.5, self reward: 1, reward: 1\n",
      "Name: Sheep43, current hp: 6, current food: 48.5, self reward: 1, reward: 1\n",
      "Name: Sheep44, current hp: 6, current food: 48.5, self reward: 1, reward: 1\n",
      "Name: Sheep45, current hp: 6, current food: 48.5, self reward: 1, reward: 1\n",
      "Name: Sheep46, current hp: 6, current food: 48.5, self reward: 1, reward: 1\n",
      "Name: Sheep47, current hp: 6, current food: 48.5, self reward: 1, reward: 1\n",
      "Name: Sheep48, current hp: 6, current food: 48.5, self reward: 1, reward: 1\n",
      "Name: Sheep49, current hp: 6, current food: 48.5, self reward: 1, reward: 1\n",
      "Name: Wolf20, current hp: 10, current food: 98.5, self reward: 1, reward: 1\n",
      "Name: Wolf21, current hp: 10, current food: 98.5, self reward: 1, reward: 1\n",
      "Name: Wolf22, current hp: 10, current food: 98.5, self reward: 1, reward: 1\n",
      "Name: Wolf23, current hp: 10, current food: 98.5, self reward: 1, reward: 1\n",
      "Name: Wolf24, current hp: 6, current food: 98.5, self reward: 1, reward: 1\n"
     ]
    }
   ],
   "source": [
    "timer_total.tic()\n",
    "display = Display(scale=1)\n",
    "display.start()\n"
   ]
  },
  {
   "cell_type": "code",
   "execution_count": 16,
   "metadata": {},
   "outputs": [],
   "source": [
    "Sheep.model.save(f\"v{1}/sheepResult{result_no}.keras\")\n",
    "Wolf.model.save(f\"v{1}/wolfResult{result_no}.keras\")\n"
   ]
  },
  {
   "cell_type": "code",
   "execution_count": 17,
   "metadata": {},
   "outputs": [
    {
     "name": "stdout",
     "output_type": "stream",
     "text": [
      "Predict:\n",
      "Total time: 5481 s\n",
      "Total calls: 118750\n",
      "Average time: 46 ms\n",
      "State:\n",
      "Total time: 5 s\n",
      "Total calls: 118750\n",
      "Average time: 0 ms\n",
      "Total:\n",
      "Total time: 22819 s\n",
      "Total calls: 1\n",
      "Average time: 22819156 ms\n",
      "Fit:\n",
      "Total time: 17298 s\n",
      "Total calls: 260599\n",
      "Average time: 66 ms\n"
     ]
    },
    {
     "ename": "",
     "evalue": "",
     "output_type": "error",
     "traceback": [
      "\u001b[1;31mThe Kernel crashed while executing code in the current cell or a previous cell. \n",
      "\u001b[1;31mPlease review the code in the cell(s) to identify a possible cause of the failure. \n",
      "\u001b[1;31mClick <a href='https://aka.ms/vscodeJupyterKernelCrash'>here</a> for more info. \n",
      "\u001b[1;31mView Jupyter <a href='command:jupyter.viewOutput'>log</a> for further details."
     ]
    }
   ],
   "source": [
    "timer_total.toc()\n",
    "print(\"Predict:\")\n",
    "timer_predict.stats()\n",
    "\n",
    "print(\"State:\")\n",
    "timer_state.stats()\n",
    "\n",
    "print(\"Total:\")\n",
    "timer_total.stats()\n",
    "\n",
    "print(\"Fit:\")\n",
    "timer_fit.stats()"
   ]
  },
  {
   "cell_type": "code",
   "execution_count": null,
   "metadata": {},
   "outputs": [],
   "source": []
  }
 ],
 "metadata": {
  "kernelspec": {
   "display_name": "Python 3",
   "language": "python",
   "name": "python3"
  },
  "language_info": {
   "codemirror_mode": {
    "name": "ipython",
    "version": 3
   },
   "file_extension": ".py",
   "mimetype": "text/x-python",
   "name": "python",
   "nbconvert_exporter": "python",
   "pygments_lexer": "ipython3",
   "version": "3.10.7"
  }
 },
 "nbformat": 4,
 "nbformat_minor": 2
}
