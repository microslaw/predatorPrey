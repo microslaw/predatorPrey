{
 "cells": [
  {
   "cell_type": "code",
   "execution_count": 1,
   "metadata": {},
   "outputs": [],
   "source": [
    "%load_ext autoreload\n",
    "%autoreload 2"
   ]
  },
  {
   "cell_type": "code",
   "execution_count": 2,
   "metadata": {},
   "outputs": [
    {
     "name": "stdout",
     "output_type": "stream",
     "text": [
      "pygame 2.5.2 (SDL 2.28.3, Python 3.12.2)\n",
      "Hello from the pygame community. https://www.pygame.org/contribute.html\n"
     ]
    }
   ],
   "source": [
    "from timer import *\n",
    "from utils import  mkdir_if_not_exist\n",
    "import globals\n",
    "\n",
    "from sheep import Sheep\n",
    "from wolf import Wolf\n",
    "#grass has no brain, so it is not imported\n",
    "\n",
    "from game import Game\n",
    "from display import Display"
   ]
  },
  {
   "cell_type": "code",
   "execution_count": 3,
   "metadata": {},
   "outputs": [],
   "source": [
    "Sheep.add_brain(\"mk0/sheep_brain_initial.pkl\")\n",
    "Wolf.add_brain(\"mk0/wolf_brain_initial.pkl\")\n",
    "\n",
    "mkdir_if_not_exist(f\"mk{globals.version_no}\")\n",
    "# Sheep.brain.save(f\"mk{globals.version_no}/sheep_brain_initial.pkl\")\n",
    "# Wolf.brain.save(f\"mk{globals.version_no}/wolf_brain_initial.pkl\")"
   ]
  },
  {
   "cell_type": "code",
   "execution_count": 11,
   "metadata": {},
   "outputs": [
    {
     "name": "stdout",
     "output_type": "stream",
     "text": [
      "game 28 finished\n",
      "game 29 finished\n",
      "game 30 finished\n",
      "game 31 finished\n",
      "game 32 finished\n",
      "game 33 finished\n",
      "game 34 finished\n",
      "game 35 finished\n",
      "game 36 finished\n",
      "game 37 finished\n"
     ]
    }
   ],
   "source": [
    "timer_total.tic()\n",
    "game = Game(\n",
    "    display=Display(),\n",
    ")\n",
    "\n",
    "for _ in range(10):\n",
    "    game.setup()\n",
    "    game.play()\n",
    "\n",
    "game.display.cleanup()\n",
    "\n",
    "timer_total.toc()"
   ]
  },
  {
   "cell_type": "code",
   "execution_count": 12,
   "metadata": {},
   "outputs": [],
   "source": [
    "Sheep.brain.save(f\"mk{globals.version_no}/sheepResult{1}.keras\")\n",
    "Wolf.brain.save(f\"mk{globals.version_no}/wolfResult{1}.keras\")\n"
   ]
  },
  {
   "cell_type": "code",
   "execution_count": 13,
   "metadata": {},
   "outputs": [
    {
     "name": "stdout",
     "output_type": "stream",
     "text": [
      "Predict:\n",
      "Total time: 23.656 s\n",
      "Total calls: 115040\n",
      "Average time: 0.00020563282336578582 s\n",
      "\n",
      "Total:\n",
      "Total time: 52.031 s\n",
      "Total calls: 2\n",
      "Average time: 26.0155 s\n",
      "\n",
      "Fit:\n",
      "Total time: 2.46 s\n",
      "Total calls: 115040\n",
      "Average time: 2.138386648122392e-05 s\n",
      "\n",
      "Outlook:\n",
      "Total time: 2.521 s\n",
      "Total calls: 115040\n",
      "Average time: 2.1914116828929066e-05 s\n",
      "\n",
      "Outlook global:\n",
      "Total time: 17.222 s\n",
      "Total calls: 6086\n",
      "Average time: 0.0028297732500821558 s\n",
      "\n"
     ]
    }
   ],
   "source": [
    "print(\"Predict:\")\n",
    "timer_predict.stats()\n",
    "\n",
    "print(\"Total:\")\n",
    "timer_total.stats()\n",
    "\n",
    "print(\"Fit:\")\n",
    "timer_fit.stats()\n",
    "\n",
    "print(\"Outlook:\")\n",
    "timer_outlook.stats()\n",
    "\n",
    "print(\"Outlook global:\")\n",
    "timer_outlook_global.stats()"
   ]
  },
  {
   "cell_type": "code",
   "execution_count": null,
   "metadata": {},
   "outputs": [
    {
     "data": {
      "text/plain": [
       "13.09854604200323"
      ]
     },
     "execution_count": 4,
     "metadata": {},
     "output_type": "execute_result"
    }
   ],
   "source": [
    "0.001293533925751025/9.875400839169765e-05"
   ]
  },
  {
   "cell_type": "code",
   "execution_count": null,
   "metadata": {},
   "outputs": [
    {
     "data": {
      "text/plain": [
       "1.3143514556847875"
      ]
     },
     "execution_count": 5,
     "metadata": {},
     "output_type": "execute_result"
    }
   ],
   "source": [
    "0.00012979747468433553/9.875400839169765e-05"
   ]
  },
  {
   "cell_type": "code",
   "execution_count": null,
   "metadata": {},
   "outputs": [
    {
     "data": {
      "text/plain": [
       "0.07437336674354084"
      ]
     },
     "execution_count": 6,
     "metadata": {},
     "output_type": "execute_result"
    }
   ],
   "source": [
    "7.344668083510439e-06/9.875400839169765e-05"
   ]
  },
  {
   "cell_type": "code",
   "execution_count": 8,
   "metadata": {},
   "outputs": [
    {
     "data": {
      "text/plain": [
       "0.8570258396008638"
      ]
     },
     "execution_count": 8,
     "metadata": {},
     "output_type": "execute_result"
    }
   ],
   "source": [
    "(1.861 + 9.648)/13.429"
   ]
  },
  {
   "cell_type": "code",
   "execution_count": 134,
   "metadata": {},
   "outputs": [],
   "source": [
    "size = 5\n",
    "padded_x = 10\n",
    "padded_y = 10\n",
    "\n",
    "X,Y = np.ogrid[\n",
    "    padded_x - size : padded_x + size,\n",
    "    padded_y - size : padded_y + size,\n",
    "]"
   ]
  },
  {
   "cell_type": "code",
   "execution_count": 137,
   "metadata": {},
   "outputs": [
    {
     "data": {
      "text/plain": [
       "array([ 5,  6,  7,  8,  9, 10, 11, 12])"
      ]
     },
     "execution_count": 137,
     "metadata": {},
     "output_type": "execute_result"
    }
   ],
   "source": [
    "X[X < 13]"
   ]
  },
  {
   "cell_type": "code",
   "execution_count": null,
   "metadata": {},
   "outputs": [],
   "source": []
  }
 ],
 "metadata": {
  "kernelspec": {
   "display_name": "Python 3",
   "language": "python",
   "name": "python3"
  },
  "language_info": {
   "codemirror_mode": {
    "name": "ipython",
    "version": 3
   },
   "file_extension": ".py",
   "mimetype": "text/x-python",
   "name": "python",
   "nbconvert_exporter": "python",
   "pygments_lexer": "ipython3",
   "version": "3.12.2"
  }
 },
 "nbformat": 4,
 "nbformat_minor": 2
}
