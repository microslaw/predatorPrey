{
 "cells": [
  {
   "cell_type": "code",
   "execution_count": 65,
   "metadata": {},
   "outputs": [
    {
     "name": "stdout",
     "output_type": "stream",
     "text": [
      "The autoreload extension is already loaded. To reload it, use:\n",
      "  %reload_ext autoreload\n"
     ]
    }
   ],
   "source": [
    "%load_ext autoreload\n",
    "%autoreload 2"
   ]
  },
  {
   "cell_type": "code",
   "execution_count": 66,
   "metadata": {},
   "outputs": [],
   "source": [
    "from timer import timer_predict, timer_state, timer_total, timer_fit\n",
    "from utils import generate_states, mkdir_if_not_exist\n",
    "from brain import Brain\n",
    "import globals\n",
    "result_no = 0\n",
    "sheep_speed = 2\n",
    "wolf_speed = 3\n",
    "\n"
   ]
  },
  {
   "cell_type": "code",
   "execution_count": 67,
   "metadata": {},
   "outputs": [],
   "source": [
    "mkdir_if_not_exist(f\"v{globals.version_no}\")\n",
    "\n",
    "sheep_model = Brain(\n",
    "    input_shape=globals.modelParams_input_shape,\n",
    "    output_shape=len(generate_states(sheep_speed)),\n",
    "    learning_rate=0.1,\n",
    ")\n",
    "sheep_model.save(f\"v{globals.version_no}/sheepInitial.keras\")\n",
    "\n",
    "wolf_model = Brain(\n",
    "    input_shape=globals.modelParams_input_shape,\n",
    "    output_shape=len(generate_states(wolf_speed)),\n",
    "    learning_rate=0.1,\n",
    ")\n",
    "wolf_model.save(f\"v{globals.version_no}/wolfInitial.keras\")\n",
    "\n",
    "from sheep import Sheep\n",
    "from wolf import Wolf\n",
    "from display import Display"
   ]
  },
  {
   "cell_type": "code",
   "execution_count": 68,
   "metadata": {},
   "outputs": [
    {
     "name": "stdout",
     "output_type": "stream",
     "text": [
      "Game 1\n",
      "Game 2\n",
      "Game 3\n",
      "Game 4\n",
      "Game 5\n",
      "Game 6\n",
      "Game 7\n",
      "Game 8\n",
      "Game 9\n",
      "Game 10\n",
      "Game 11\n",
      "Game 12\n",
      "Game 13\n",
      "Game 14\n",
      "Game 15\n",
      "Game 16\n"
     ]
    }
   ],
   "source": [
    "timer_total.tic()\n",
    "display = Display(scale=1)\n",
    "display.start()\n"
   ]
  },
  {
   "cell_type": "code",
   "execution_count": null,
   "metadata": {},
   "outputs": [],
   "source": [
    "Sheep.brain.save(f\"v{6}/sheepResult{result_no}.keras\")\n",
    "Wolf.brain.save(f\"v{6}/wolfResult{result_no}.keras\")\n"
   ]
  },
  {
   "cell_type": "code",
   "execution_count": null,
   "metadata": {},
   "outputs": [],
   "source": [
    "timer_total.toc()\n",
    "print(\"Predict:\")\n",
    "timer_predict.stats()\n",
    "\n",
    "print(\"State:\")\n",
    "timer_state.stats()\n",
    "\n",
    "print(\"Total:\")\n",
    "timer_total.stats()\n",
    "\n",
    "print(\"Fit:\")\n",
    "timer_fit.stats()"
   ]
  },
  {
   "cell_type": "code",
   "execution_count": null,
   "metadata": {},
   "outputs": [],
   "source": []
  }
 ],
 "metadata": {
  "kernelspec": {
   "display_name": "Python 3",
   "language": "python",
   "name": "python3"
  },
  "language_info": {
   "codemirror_mode": {
    "name": "ipython",
    "version": 3
   },
   "file_extension": ".py",
   "mimetype": "text/x-python",
   "name": "python",
   "nbconvert_exporter": "python",
   "pygments_lexer": "ipython3",
   "version": "3.12.2"
  }
 },
 "nbformat": 4,
 "nbformat_minor": 2
}
