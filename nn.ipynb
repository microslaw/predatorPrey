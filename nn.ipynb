{
 "cells": [
  {
   "cell_type": "code",
   "execution_count": 1,
   "metadata": {},
   "outputs": [],
   "source": [
    "%load_ext autoreload\n",
    "%autoreload 2"
   ]
  },
  {
   "cell_type": "code",
   "execution_count": 2,
   "metadata": {},
   "outputs": [],
   "source": [
    "import numpy as np\n",
    "from timer import Timer\n",
    "import pickle"
   ]
  },
  {
   "cell_type": "code",
   "execution_count": 5,
   "metadata": {},
   "outputs": [],
   "source": [
    "maxFloat16 = np.finfo(np.float16).max\n",
    "neuronMax = 100\n",
    "neuronMin = -100\n",
    "neuronDtype = np.float32\n",
    "\n",
    "\n",
    "class NeuralNetwork:\n",
    "    @staticmethod\n",
    "    def sigmoid(x, derivative=False):\n",
    "        if derivative:\n",
    "            return NeuralNetwork.sigmoidDerivative(x)\n",
    "        return 1 / (1 + np.exp(-x))\n",
    "\n",
    "    @staticmethod\n",
    "    def sigmoidDerivative(x):\n",
    "        return x * (1 - x)\n",
    "\n",
    "    @staticmethod\n",
    "    def relu(x, derivative=False):\n",
    "        if derivative:\n",
    "            return NeuralNetwork.reluDerivative(x)\n",
    "        return np.maximum(0, x)\n",
    "\n",
    "    @staticmethod\n",
    "    def reluDerivative(x):\n",
    "        return 1.0 * (x > 0)\n",
    "\n",
    "    @staticmethod\n",
    "    def softmax(x):\n",
    "        exps = np.exp(x - np.max(x))\n",
    "        return exps / np.sum(exps, axis=1, keepdims=True)\n",
    "\n",
    "    @staticmethod\n",
    "    def softmaxDerivative(x):\n",
    "        return x * (1 - x)\n",
    "\n",
    "    def __init__(self, layerSizes, activationFunctions):\n",
    "        self.layerSizes = layerSizes\n",
    "        self.activationFunctions = activationFunctions\n",
    "        self.layers = [\n",
    "            np.random.uniform(low=neuronMin, high=neuronMax, size=layerSizes[i]).astype(neuronDtype)\n",
    "            for i in range(len(layerSizes))\n",
    "        ]\n",
    "        self.weights = [\n",
    "            np.random.uniform(\n",
    "                low=neuronMin, high=neuronMax, size=layerSizes[i] * layerSizes[i + 1]\n",
    "            ).astype(neuronDtype).reshape(layerSizes[i], layerSizes[i + 1])\n",
    "            for i in range(len(layerSizes) - 1)\n",
    "        ]\n",
    "        self.biases = [\n",
    "            np.random.uniform(low=neuronMin, high=neuronMax, size=layerSizes[i + 1]).astype(\n",
    "                neuronDtype\n",
    "            )\n",
    "            for i in range(len(layerSizes) - 1)\n",
    "        ]\n",
    "\n",
    "    def loadInput(self, input):\n",
    "        self.layers[0] = input.astype(neuronDtype)\n",
    "\n",
    "    def readOutput(self):\n",
    "        return self.layers[-1]\n",
    "\n",
    "    def forward(self):\n",
    "        for i in range(len(self.weights)):\n",
    "            self.layers[i + 1] = self.activationFunctions[i](\n",
    "                np.dot(self.layers[i], self.weights[i]) + self.biases[i]\n",
    "            )\n",
    "\n",
    "    def backpropagation(self, target, learning_rate):\n",
    "        output_error = target - self.layers[-1]\n",
    "\n",
    "        for i in range(len(self.layers) - 2, -1, -1):\n",
    "            # Calculate the derivative of the activation function\n",
    "            derivative = self.activationFunctions[i](self.layers[i + 1], derivative=True)\n",
    "\n",
    "            # Calculate the error of the current layer\n",
    "            layer_error = np.dot(output_error, self.weights[i].T) * derivative\n",
    "\n",
    "            # Calculate the adjustments for the weights and biases\n",
    "            weight_adjustments = np.dot(self.layers[i].T, output_error)\n",
    "            bias_adjustments = output_error\n",
    "\n",
    "            # Update the weights and biases\n",
    "            self.weights[i] += learning_rate * weight_adjustments\n",
    "            self.biases[i] += learning_rate * bias_adjustments\n",
    "\n",
    "            # Set the output error for the next iteration\n",
    "            output_error = layer_error\n"
   ]
  },
  {
   "cell_type": "code",
   "execution_count": 9,
   "metadata": {},
   "outputs": [
    {
     "name": "stdout",
     "output_type": "stream",
     "text": [
      "[1.23644208e+08 1.19282296e+08 0.00000000e+00]\n",
      "Total time: 0 s\n",
      "Total calls: 1\n",
      "Average time: 0 ms\n"
     ]
    }
   ],
   "source": [
    "x = NeuralNetwork([30_000, 20, 20, 3], [NeuralNetwork.relu, NeuralNetwork.relu, NeuralNetwork.relu])\n",
    "nnTimer = Timer(precision=3)\n",
    "\n",
    "\n",
    "for i in range(1):\n",
    "    nnTimer.tic()\n",
    "    x.loadInput(np.random.rand(30_000))\n",
    "    x.forward()\n",
    "    nnTimer.toc()\n",
    "    print(x.readOutput())\n",
    "nnTimer.stats()"
   ]
  },
  {
   "cell_type": "code",
   "execution_count": 6,
   "metadata": {},
   "outputs": [],
   "source": [
    "sth = np.random.rand(3)"
   ]
  },
  {
   "cell_type": "code",
   "execution_count": 10,
   "metadata": {},
   "outputs": [
    {
     "ename": "ValueError",
     "evalue": "operands could not be broadcast together with shapes (20,) (3,) ",
     "output_type": "error",
     "traceback": [
      "\u001b[1;31m---------------------------------------------------------------------------\u001b[0m",
      "\u001b[1;31mValueError\u001b[0m                                Traceback (most recent call last)",
      "Cell \u001b[1;32mIn[10], line 1\u001b[0m\n\u001b[1;32m----> 1\u001b[0m \u001b[43mx\u001b[49m\u001b[38;5;241;43m.\u001b[39;49m\u001b[43mbackpropagation\u001b[49m\u001b[43m(\u001b[49m\u001b[43msth\u001b[49m\u001b[43m,\u001b[49m\u001b[43m \u001b[49m\u001b[38;5;241;43m0.1\u001b[39;49m\u001b[43m)\u001b[49m\n\u001b[0;32m      2\u001b[0m x\u001b[38;5;241m.\u001b[39mforward()\n\u001b[0;32m      3\u001b[0m \u001b[38;5;28mprint\u001b[39m(x\u001b[38;5;241m.\u001b[39mreadOutput())\n",
      "Cell \u001b[1;32mIn[5], line 77\u001b[0m, in \u001b[0;36mNeuralNetwork.backpropagation\u001b[1;34m(self, target, learning_rate)\u001b[0m\n\u001b[0;32m     74\u001b[0m derivative \u001b[38;5;241m=\u001b[39m \u001b[38;5;28mself\u001b[39m\u001b[38;5;241m.\u001b[39mactivationFunctions[i](\u001b[38;5;28mself\u001b[39m\u001b[38;5;241m.\u001b[39mlayers[i \u001b[38;5;241m+\u001b[39m \u001b[38;5;241m1\u001b[39m], derivative\u001b[38;5;241m=\u001b[39m\u001b[38;5;28;01mTrue\u001b[39;00m)\n\u001b[0;32m     76\u001b[0m \u001b[38;5;66;03m# Calculate the error of the current layer\u001b[39;00m\n\u001b[1;32m---> 77\u001b[0m layer_error \u001b[38;5;241m=\u001b[39m \u001b[43mnp\u001b[49m\u001b[38;5;241;43m.\u001b[39;49m\u001b[43mdot\u001b[49m\u001b[43m(\u001b[49m\u001b[43moutput_error\u001b[49m\u001b[43m,\u001b[49m\u001b[43m \u001b[49m\u001b[38;5;28;43mself\u001b[39;49m\u001b[38;5;241;43m.\u001b[39;49m\u001b[43mweights\u001b[49m\u001b[43m[\u001b[49m\u001b[43mi\u001b[49m\u001b[43m]\u001b[49m\u001b[38;5;241;43m.\u001b[39;49m\u001b[43mT\u001b[49m\u001b[43m)\u001b[49m\u001b[43m \u001b[49m\u001b[38;5;241;43m*\u001b[39;49m\u001b[43m \u001b[49m\u001b[43mderivative\u001b[49m\n\u001b[0;32m     79\u001b[0m \u001b[38;5;66;03m# Calculate the adjustments for the weights and biases\u001b[39;00m\n\u001b[0;32m     80\u001b[0m weight_adjustments \u001b[38;5;241m=\u001b[39m np\u001b[38;5;241m.\u001b[39mdot(\u001b[38;5;28mself\u001b[39m\u001b[38;5;241m.\u001b[39mlayers[i]\u001b[38;5;241m.\u001b[39mT, output_error)\n",
      "\u001b[1;31mValueError\u001b[0m: operands could not be broadcast together with shapes (20,) (3,) "
     ]
    }
   ],
   "source": [
    "x.backpropagation(sth, 0.1)\n",
    "x.forward()\n",
    "print(x.readOutput())"
   ]
  },
  {
   "cell_type": "code",
   "execution_count": 59,
   "metadata": {},
   "outputs": [
    {
     "data": {
      "text/plain": [
       "3.4028235e+38"
      ]
     },
     "execution_count": 59,
     "metadata": {},
     "output_type": "execute_result"
    }
   ],
   "source": [
    "np.finfo(np.float32).max"
   ]
  },
  {
   "cell_type": "code",
   "execution_count": 62,
   "metadata": {},
   "outputs": [],
   "source": [
    "pickle.dump(x, open(\"nn.pkl\", \"wb\"))"
   ]
  },
  {
   "cell_type": "code",
   "execution_count": 13,
   "metadata": {},
   "outputs": [
    {
     "ename": "SyntaxError",
     "evalue": "invalid syntax. Perhaps you forgot a comma? (4106462344.py, line 1)",
     "output_type": "error",
     "traceback": [
      "\u001b[1;36m  Cell \u001b[1;32mIn[13], line 1\u001b[1;36m\u001b[0m\n\u001b[1;33m    np.matmul(np.random.randint(size=10, low=-10, high = 10), np.random.randint(size=10, low=-10, high = 10 F))\u001b[0m\n\u001b[1;37m                                                                                                         ^\u001b[0m\n\u001b[1;31mSyntaxError\u001b[0m\u001b[1;31m:\u001b[0m invalid syntax. Perhaps you forgot a comma?\n"
     ]
    }
   ],
   "source": [
    "np.matmul(\n",
    "    np.random.randint(size=10, low=-10, high=10),\n",
    "    np.random.randint(size=10, low=-10, high=10),\n",
    ")"
   ]
  },
  {
   "cell_type": "code",
   "execution_count": null,
   "metadata": {},
   "outputs": [],
   "source": []
  }
 ],
 "metadata": {
  "kernelspec": {
   "display_name": "Python 3",
   "language": "python",
   "name": "python3"
  },
  "language_info": {
   "codemirror_mode": {
    "name": "ipython",
    "version": 3
   },
   "file_extension": ".py",
   "mimetype": "text/x-python",
   "name": "python",
   "nbconvert_exporter": "python",
   "pygments_lexer": "ipython3",
   "version": "3.10.7"
  }
 },
 "nbformat": 4,
 "nbformat_minor": 2
}
