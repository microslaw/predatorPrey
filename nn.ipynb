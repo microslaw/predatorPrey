{
 "cells": [
  {
   "cell_type": "code",
   "execution_count": 235,
   "metadata": {},
   "outputs": [
    {
     "name": "stdout",
     "output_type": "stream",
     "text": [
      "The autoreload extension is already loaded. To reload it, use:\n",
      "  %reload_ext autoreload\n"
     ]
    }
   ],
   "source": [
    "%load_ext autoreload\n",
    "%autoreload 2"
   ]
  },
  {
   "cell_type": "code",
   "execution_count": 236,
   "metadata": {},
   "outputs": [],
   "source": [
    "import numpy as np\n",
    "from timer import Timer\n",
    "import pickle"
   ]
  },
  {
   "cell_type": "code",
   "execution_count": 237,
   "metadata": {},
   "outputs": [],
   "source": [
    "maxFloat16 = np.finfo(np.float16).max\n",
    "neuronMax = 100\n",
    "neuronMin = -100\n",
    "neuronDtype = np.float32\n",
    "\n",
    "\n",
    "class NeuralNetwork:\n",
    "    @staticmethod\n",
    "    def sigmoid(x, derivative=False):\n",
    "        if derivative:\n",
    "            return x * (1 - x)\n",
    "        return 1 / (1 + np.exp(-x))\n",
    "\n",
    "    @staticmethod\n",
    "    def relu(x, derivative=False):\n",
    "        if derivative:\n",
    "            return 1.0 #* (x > 0)\n",
    "        return x #np.maximum(0, x)\n",
    "\n",
    "\n",
    "    # @staticmethod\n",
    "    # def softmax(x):\n",
    "    #     exps = np.exp(x - np.max(x))\n",
    "    #     return exps / np.sum(exps, axis=1, keepdims=True)\n",
    "\n",
    "    # @staticmethod\n",
    "    # def softmaxDerivative(x):\n",
    "    #     return x * (1 - x)\n",
    "\n",
    "    def __init__(self, layerSizes, activationFunctions):\n",
    "        self.layerSizes = layerSizes\n",
    "        self.activationFunctions = activationFunctions\n",
    "        self.layers = [\n",
    "            np.random.uniform(low=neuronMin, high=neuronMax, size=layerSizes[i]).astype(neuronDtype)\n",
    "            for i in range(len(layerSizes))\n",
    "        ]\n",
    "        self.weights = [\n",
    "            np.random.uniform(\n",
    "                low=neuronMin, high=neuronMax, size=layerSizes[i] * layerSizes[i + 1]\n",
    "            ).astype(neuronDtype).reshape(layerSizes[i], layerSizes[i + 1])\n",
    "            for i in range(len(layerSizes) - 1)\n",
    "        ]\n",
    "        self.biases = [\n",
    "            np.random.uniform(low=neuronMin, high=neuronMax, size=layerSizes[i + 1]).astype(\n",
    "                neuronDtype\n",
    "            )\n",
    "            for i in range(len(layerSizes) - 1)\n",
    "        ]\n",
    "\n",
    "    def loadInput(self, input):\n",
    "        self.layers[0] = input.astype(neuronDtype)\n",
    "\n",
    "    def readOutput(self):\n",
    "        return self.layers[-1]\n",
    "\n",
    "    def forward(self):\n",
    "        for i in range(len(self.weights)):\n",
    "            self.layers[i + 1] = self.activationFunctions[i](\n",
    "                np.dot(self.layers[i], self.weights[i]) + self.biases[i]\n",
    "            )\n",
    "\n",
    "    def mseLoss(self, target, layer_no):\n",
    "        return np.sum(np.square(target - self.layers[layer_no]))/2\n",
    "\n",
    "    def backpropagation(self, target, learning_rate):\n",
    "        output_error = target - self.layers[-1]\n",
    "\n",
    "        for i in range(len(self.layers) - 2, -1, -1):\n",
    "            # Calculate the derivative of the activation function\n",
    "            derivative = self.activationFunctions[i](self.layers[i + 1], derivative=True)\n",
    "\n",
    "            # Calculate the error of the current layer\n",
    "            layer_error = np.dot(output_error * derivative, self.weights[i].T)\n",
    "\n",
    "            # Calculate the adjustments for the weights and biases\n",
    "            weight_adjustments = np.outer(self.layers[i], output_error)\n",
    "            bias_adjustments = output_error\n",
    "\n",
    "            # Update the weights and biases\n",
    "            self.weights[i] += weight_adjustments * learning_rate\n",
    "            self.biases[i] += bias_adjustments * learning_rate\n",
    "\n",
    "            # Set the output error for the next iteration\n",
    "            output_error = layer_error\n"
   ]
  },
  {
   "cell_type": "code",
   "execution_count": 238,
   "metadata": {},
   "outputs": [],
   "source": [
    "x = NeuralNetwork([5, 5, 3], [NeuralNetwork.relu, NeuralNetwork.relu])\n",
    "nnTimer = Timer(precision=3)\n",
    "\n",
    "target = np.array([2, 3, 4])\n",
    "input = np.random.rand(5)\n",
    "\n",
    "\n",
    "\n",
    "# x = NeuralNetwork([30_000, 20, 20, 3], [NeuralNetwork.relu, NeuralNetwork.relu, NeuralNetwork.relu])\n",
    "# nnTimer = Timer(precision=3)\n",
    "\n",
    "# target = np.array([2, 3, 4])\n",
    "# input = np.random.rand(30_000)\n",
    "\n",
    "\n",
    "\n",
    "# for i in range(1):\n",
    "#     nnTimer.tic()\n",
    "#     x.loadInput(np.random.rand(30_000))\n",
    "#     x.forward()\n",
    "#     nnTimer.toc()\n",
    "#     print(x.readOutput())\n",
    "# nnTimer.stats()"
   ]
  },
  {
   "cell_type": "code",
   "execution_count": 239,
   "metadata": {},
   "outputs": [
    {
     "name": "stdout",
     "output_type": "stream",
     "text": [
      "[  8118.654  -40168.613   -1971.3448]\n"
     ]
    }
   ],
   "source": [
    "x.loadInput(input)\n",
    "x.forward()\n",
    "print(x.readOutput())"
   ]
  },
  {
   "cell_type": "code",
   "execution_count": 240,
   "metadata": {},
   "outputs": [
    {
     "name": "stdout",
     "output_type": "stream",
     "text": [
      "[ 4.7656166e+09 -2.3556076e+10 -1.1498066e+09]\n",
      "[ 9.6511616e+26 -4.7704951e+27 -2.3285486e+26]\n",
      "[ inf -inf -inf]\n",
      "[nan nan nan]\n",
      "[nan nan nan]\n",
      "[nan nan nan]\n",
      "[nan nan nan]\n",
      "[nan nan nan]\n",
      "[nan nan nan]\n",
      "[nan nan nan]\n",
      "[nan nan nan]\n",
      "[nan nan nan]\n",
      "[nan nan nan]\n",
      "[nan nan nan]\n",
      "[nan nan nan]\n",
      "[nan nan nan]\n",
      "[nan nan nan]\n",
      "[nan nan nan]\n",
      "[nan nan nan]\n",
      "[nan nan nan]\n",
      "[nan nan nan]\n",
      "[nan nan nan]\n",
      "[nan nan nan]\n",
      "[nan nan nan]\n",
      "[nan nan nan]\n",
      "[nan nan nan]\n",
      "[nan nan nan]\n",
      "[nan nan nan]\n",
      "[nan nan nan]\n",
      "[nan nan nan]\n",
      "[nan nan nan]\n",
      "[nan nan nan]\n",
      "[nan nan nan]\n",
      "[nan nan nan]\n",
      "[nan nan nan]\n",
      "[nan nan nan]\n",
      "[nan nan nan]\n",
      "[nan nan nan]\n",
      "[nan nan nan]\n",
      "[nan nan nan]\n",
      "[nan nan nan]\n",
      "[nan nan nan]\n",
      "[nan nan nan]\n",
      "[nan nan nan]\n",
      "[nan nan nan]\n",
      "[nan nan nan]\n",
      "[nan nan nan]\n",
      "[nan nan nan]\n",
      "[nan nan nan]\n",
      "[nan nan nan]\n",
      "[nan nan nan]\n",
      "[nan nan nan]\n",
      "[nan nan nan]\n",
      "[nan nan nan]\n",
      "[nan nan nan]\n",
      "[nan nan nan]\n",
      "[nan nan nan]\n",
      "[nan nan nan]\n",
      "[nan nan nan]\n",
      "[nan nan nan]\n",
      "[nan nan nan]\n",
      "[nan nan nan]\n",
      "[nan nan nan]\n",
      "[nan nan nan]\n",
      "[nan nan nan]\n",
      "[nan nan nan]\n",
      "[nan nan nan]\n",
      "[nan nan nan]\n",
      "[nan nan nan]\n",
      "[nan nan nan]\n",
      "[nan nan nan]\n",
      "[nan nan nan]\n",
      "[nan nan nan]\n",
      "[nan nan nan]\n",
      "[nan nan nan]\n",
      "[nan nan nan]\n",
      "[nan nan nan]\n",
      "[nan nan nan]\n",
      "[nan nan nan]\n",
      "[nan nan nan]\n",
      "[nan nan nan]\n",
      "[nan nan nan]\n",
      "[nan nan nan]\n",
      "[nan nan nan]\n",
      "[nan nan nan]\n",
      "[nan nan nan]\n",
      "[nan nan nan]\n",
      "[nan nan nan]\n",
      "[nan nan nan]\n",
      "[nan nan nan]\n",
      "[nan nan nan]\n",
      "[nan nan nan]\n",
      "[nan nan nan]\n",
      "[nan nan nan]\n",
      "[nan nan nan]\n",
      "[nan nan nan]\n",
      "[nan nan nan]\n",
      "[nan nan nan]\n",
      "[nan nan nan]\n",
      "[nan nan nan]\n"
     ]
    },
    {
     "name": "stderr",
     "output_type": "stream",
     "text": [
      "C:\\Users\\milos\\AppData\\Local\\Temp\\ipykernel_17412\\2347882154.py:80: RuntimeWarning: overflow encountered in add\n",
      "  self.weights[i] += weight_adjustments * learning_rate\n",
      "C:\\Users\\milos\\AppData\\Local\\Temp\\ipykernel_17412\\2347882154.py:81: RuntimeWarning: overflow encountered in add\n",
      "  self.biases[i] += bias_adjustments * learning_rate\n",
      "C:\\Users\\milos\\AppData\\Local\\Temp\\ipykernel_17412\\2347882154.py:80: RuntimeWarning: invalid value encountered in add\n",
      "  self.weights[i] += weight_adjustments * learning_rate\n",
      "C:\\Users\\milos\\AppData\\Local\\Temp\\ipykernel_17412\\2347882154.py:81: RuntimeWarning: invalid value encountered in add\n",
      "  self.biases[i] += bias_adjustments * learning_rate\n"
     ]
    }
   ],
   "source": [
    "for i in range(100):\n",
    "    nnTimer.tic()\n",
    "    x.backpropagation(target, 0.01)\n",
    "    x.loadInput(input)\n",
    "    x.forward()\n",
    "    print(x.readOutput())\n",
    "    nnTimer.toc()"
   ]
  },
  {
   "cell_type": "code",
   "execution_count": 241,
   "metadata": {},
   "outputs": [
    {
     "name": "stdout",
     "output_type": "stream",
     "text": [
      "Total time: 0 s\n",
      "Total calls: 100\n",
      "Average time: 0 ms\n"
     ]
    }
   ],
   "source": [
    "nnTimer.stats()"
   ]
  },
  {
   "cell_type": "code",
   "execution_count": null,
   "metadata": {},
   "outputs": [],
   "source": []
  }
 ],
 "metadata": {
  "kernelspec": {
   "display_name": "Python 3",
   "language": "python",
   "name": "python3"
  },
  "language_info": {
   "codemirror_mode": {
    "name": "ipython",
    "version": 3
   },
   "file_extension": ".py",
   "mimetype": "text/x-python",
   "name": "python",
   "nbconvert_exporter": "python",
   "pygments_lexer": "ipython3",
   "version": "3.12.2"
  }
 },
 "nbformat": 4,
 "nbformat_minor": 2
}
